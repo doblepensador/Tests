{
  "nbformat": 4,
  "nbformat_minor": 0,
  "metadata": {
    "colab": {
      "name": "Recommendation System",
      "provenance": [],
      "collapsed_sections": [],
      "authorship_tag": "ABX9TyPww2V6mIpVacLXyx+QLnBZ",
      "include_colab_link": true
    },
    "kernelspec": {
      "name": "python3",
      "display_name": "Python 3"
    },
    "language_info": {
      "name": "python"
    }
  },
  "cells": [
    {
      "cell_type": "markdown",
      "metadata": {
        "id": "view-in-github",
        "colab_type": "text"
      },
      "source": [
        "<a href=\"https://colab.research.google.com/github/doblepensador/Tests/blob/master/Recommendation_System.ipynb\" target=\"_parent\"><img src=\"https://colab.research.google.com/assets/colab-badge.svg\" alt=\"Open In Colab\"/></a>"
      ]
    },
    {
      "cell_type": "code",
      "execution_count": 1,
      "metadata": {
        "id": "pe2M7BkTkBQ_",
        "outputId": "c0a76ffa-c76a-4a6e-e194-b43b2f8bb3eb",
        "colab": {
          "base_uri": "https://localhost:8080/"
        }
      },
      "outputs": [
        {
          "output_type": "stream",
          "name": "stdout",
          "text": [
            "Collecting scikit-surprise\n",
            "  Downloading scikit-surprise-1.1.1.tar.gz (11.8 MB)\n",
            "\u001b[K     |████████████████████████████████| 11.8 MB 3.7 MB/s \n",
            "\u001b[?25hRequirement already satisfied: joblib>=0.11 in /usr/local/lib/python3.7/dist-packages (from scikit-surprise) (1.1.0)\n",
            "Requirement already satisfied: numpy>=1.11.2 in /usr/local/lib/python3.7/dist-packages (from scikit-surprise) (1.21.5)\n",
            "Requirement already satisfied: scipy>=1.0.0 in /usr/local/lib/python3.7/dist-packages (from scikit-surprise) (1.4.1)\n",
            "Requirement already satisfied: six>=1.10.0 in /usr/local/lib/python3.7/dist-packages (from scikit-surprise) (1.15.0)\n",
            "Building wheels for collected packages: scikit-surprise\n",
            "  Building wheel for scikit-surprise (setup.py) ... \u001b[?25l\u001b[?25hdone\n",
            "  Created wheel for scikit-surprise: filename=scikit_surprise-1.1.1-cp37-cp37m-linux_x86_64.whl size=1630178 sha256=d5e5f56f0cb90e1f2278fa1191c147e641457d1f7d77d6ee103a2febb877ac1d\n",
            "  Stored in directory: /root/.cache/pip/wheels/76/44/74/b498c42be47b2406bd27994e16c5188e337c657025ab400c1c\n",
            "Successfully built scikit-surprise\n",
            "Installing collected packages: scikit-surprise\n",
            "Successfully installed scikit-surprise-1.1.1\n"
          ]
        }
      ],
      "source": [
        "!pip install scikit-surprise"
      ]
    },
    {
      "cell_type": "code",
      "source": [
        "import numpy as np\n",
        "from surprise import Dataset"
      ],
      "metadata": {
        "id": "gqiUAURqk2jP"
      },
      "execution_count": 32,
      "outputs": []
    },
    {
      "cell_type": "code",
      "source": [
        "data = Dataset.load_builtin('ml-100k', prompt = False)"
      ],
      "metadata": {
        "id": "ayyoD1yHk_OX"
      },
      "execution_count": 33,
      "outputs": []
    },
    {
      "cell_type": "markdown",
      "source": [
        "***Content-based filtering ***"
      ],
      "metadata": {
        "id": "H0Y1rHEuQoBl"
      }
    },
    {
      "cell_type": "code",
      "source": [
        "raw_data = np.array(data.raw_ratings, dtype=int) \n",
        "raw_data[:,0] -=1 #Make ID No. start from 0. \n",
        "raw_data[:,1] -=1 #Make Item No. start from 0.\n",
        "raw_data"
      ],
      "metadata": {
        "id": "KVlwUTpqlrzd",
        "colab": {
          "base_uri": "https://localhost:8080/"
        },
        "outputId": "82ee7939-5b5d-4418-cf6d-b2c5a0bc831e"
      },
      "execution_count": 34,
      "outputs": [
        {
          "output_type": "execute_result",
          "data": {
            "text/plain": [
              "array([[      195,       241,         3, 881250949],\n",
              "       [      185,       301,         3, 891717742],\n",
              "       [       21,       376,         1, 878887116],\n",
              "       ...,\n",
              "       [      275,      1089,         1, 874795795],\n",
              "       [       12,       224,         2, 882399156],\n",
              "       [       11,       202,         3, 879959583]])"
            ]
          },
          "metadata": {},
          "execution_count": 34
        }
      ]
    },
    {
      "cell_type": "code",
      "source": [
        "n_users = np.max(raw_data[:,0]) + 1\n",
        "n_movies = np.max(raw_data[:,1]) + 1\n",
        "shape = (n_users, n_movies)\n",
        "shape\n"
      ],
      "metadata": {
        "id": "SXZGNKWiset6",
        "outputId": "f3abb6ca-ece0-4889-a690-3c08fc506bc6",
        "colab": {
          "base_uri": "https://localhost:8080/"
        }
      },
      "execution_count": 35,
      "outputs": [
        {
          "output_type": "execute_result",
          "data": {
            "text/plain": [
              "(943, 1682)"
            ]
          },
          "metadata": {},
          "execution_count": 35
        }
      ]
    },
    {
      "cell_type": "code",
      "source": [
        "adj_matrix = np.ndarray(shape, dtype=int)\n",
        "for user_id, movie_id, rating, time in raw_data:\n",
        "  adj_matrix[user_id][movie_id] = 1. \n",
        "  #Make an Adjacent Matrix for user & movie ID \n",
        "adj_matrix"
      ],
      "metadata": {
        "id": "xTMbx0ZGtAG0",
        "colab": {
          "base_uri": "https://localhost:8080/"
        },
        "outputId": "68de0abe-c491-4d38-d48f-71aee644a1c1"
      },
      "execution_count": null,
      "outputs": [
        {
          "output_type": "execute_result",
          "data": {
            "text/plain": [
              "array([[1, 1, 1, ..., 0, 0, 0],\n",
              "       [1, 0, 0, ..., 0, 0, 0],\n",
              "       [0, 0, 0, ..., 0, 0, 0],\n",
              "       ...,\n",
              "       [1, 0, 0, ..., 0, 0, 0],\n",
              "       [0, 0, 0, ..., 0, 0, 0],\n",
              "       [0, 1, 0, ..., 0, 0, 0]])"
            ]
          },
          "metadata": {},
          "execution_count": 7
        }
      ]
    },
    {
      "cell_type": "code",
      "source": [
        "my_id, my_vector = 0, adj_matrix[0]\n",
        "best_match, best_match_id, best_match_vector = -1, -1, [] \n",
        "for user_id, user_vector in enumerate(adj_matrix):\n",
        "  # Enumerating a 2-dimensional array makes it possible \n",
        "  # to iterate the first index and the remaining vector\n",
        "  if user_id != my_id:\n",
        "    similarity = np.dot(user_vector, my_vector)\n",
        "    if similarity > best_match:\n",
        "      best_match = similarity\n",
        "      best_match_id = user_id\n",
        "      best_match_vector = user_vector\n",
        "print(\"the best match value is {0}. The best match ID is {1}\".format(best_match, best_match_id))\n",
        "\n",
        "# >>> for r, row in enumerate(matrix):\n",
        "# ...     for c, letter in enumerate(row):\n",
        "# ...             print(r, c, letter)\n",
        "# ...\n",
        "# 0 0 A\n",
        "# 0 1 B\n",
        "# 0 2 C\n",
        "# 1 0 D\n",
        "# 1 1 E\n",
        "# 1 2 F\n",
        "# 2 0 G\n",
        "# 2 1 H\n",
        "# 2 2 I"
      ],
      "metadata": {
        "id": "Sc268P3jbP6s",
        "outputId": "4bb974ac-678e-4981-cc32-0abf6b64a024",
        "colab": {
          "base_uri": "https://localhost:8080/"
        }
      },
      "execution_count": 36,
      "outputs": [
        {
          "output_type": "stream",
          "name": "stdout",
          "text": [
            "the best match value is 2719. The best match ID is 275\n"
          ]
        }
      ]
    },
    {
      "cell_type": "code",
      "source": [
        "recommend_list = []\n",
        "for i, log in enumerate(zip(my_vector, best_match_vector)):\n",
        "  log1, log2 = log\n",
        "  if log1 < 1. and log2 > 0.:\n",
        "    recommend_list.append(i)\n",
        "print(recommend_list)\n",
        "\n",
        "# >>> numbers = [1, 2, 3]\n",
        "# >>> letters = [\"A\", \"B\", \"C\"]\n",
        "# >>> for pair in zip(numbers, letters):\n",
        "# ...     print(pair)\n",
        "# ...\n",
        "# (1, 'A')\n",
        "# (2, 'B')\n",
        "# (3, 'C')"
      ],
      "metadata": {
        "id": "XZuS39_iJLgx",
        "outputId": "d2c6afcd-efbb-4e0c-eca0-e0c2743dc0a6",
        "colab": {
          "base_uri": "https://localhost:8080/"
        }
      },
      "execution_count": null,
      "outputs": [
        {
          "output_type": "stream",
          "name": "stdout",
          "text": [
            "[272, 273, 275, 280, 281, 283, 287, 288, 289, 290, 292, 293, 297, 299, 300, 301, 302, 306, 312, 314, 315, 316, 317, 321, 322, 323, 324, 327, 330, 331, 332, 333, 339, 342, 345, 346, 353, 354, 355, 356, 357, 363, 364, 365, 366, 372, 374, 378, 379, 381, 382, 383, 384, 385, 386, 387, 390, 391, 392, 394, 395, 396, 398, 400, 401, 402, 403, 404, 405, 406, 407, 408, 409, 410, 412, 414, 416, 417, 418, 419, 420, 422, 424, 425, 426, 427, 428, 430, 431, 432, 435, 442, 446, 447, 448, 449, 450, 451, 452, 454, 455, 457, 460, 461, 462, 468, 469, 470, 471, 472, 473, 474, 478, 495, 500, 507, 517, 522, 525, 530, 539, 540, 543, 545, 546, 548, 549, 550, 551, 553, 557, 558, 560, 561, 562, 563, 565, 566, 567, 568, 570, 571, 574, 575, 576, 577, 580, 581, 582, 585, 587, 589, 590, 594, 596, 602, 623, 626, 627, 630, 633, 635, 639, 646, 648, 651, 652, 654, 657, 664, 668, 671, 677, 678, 681, 683, 684, 685, 690, 691, 692, 695, 696, 708, 709, 714, 718, 719, 720, 724, 726, 727, 731, 733, 734, 736, 738, 741, 742, 745, 746, 747, 749, 750, 754, 758, 762, 764, 767, 768, 769, 770, 771, 772, 773, 778, 779, 782, 785, 788, 789, 793, 795, 796, 799, 800, 801, 802, 805, 806, 808, 815, 819, 822, 824, 830, 839, 842, 843, 844, 852, 853, 870, 875, 878, 880, 889, 901, 914, 915, 918, 921, 927, 929, 930, 938, 940, 941, 942, 948, 950, 958, 968, 973, 974, 976, 992, 999, 1005, 1009, 1010, 1012, 1015, 1018, 1027, 1030, 1034, 1035, 1041, 1043, 1045, 1046, 1051, 1055, 1072, 1073, 1078, 1080, 1082, 1088, 1089, 1090, 1094, 1097, 1108, 1109, 1117, 1128, 1130, 1134, 1139, 1140, 1144, 1156, 1169, 1171, 1179, 1193, 1198, 1207, 1209, 1212, 1217, 1219, 1220, 1227, 1231, 1238, 1239, 1243, 1244, 1252, 1266, 1272, 1273, 1300, 1313, 1406, 1412, 1415, 1470, 1477, 1480, 1481, 1482]\n"
          ]
        }
      ]
    },
    {
      "cell_type": "code",
      "source": [
        "my_id, my_vector = 0, adj_matrix[0]\n",
        "best_match, best_match_id, best_match_vector = 9999, -1, [] \n",
        "for user_id, user_vector in enumerate(adj_matrix):\n",
        "  if user_id != my_id:\n",
        "    euclidean_dist = np.sqrt(np.sum(np.square(my_vector - user_vector)))\n",
        "    if euclidean_dist < best_match:\n",
        "      best_match = euclidean_dist\n",
        "      best_match_id = user_id\n",
        "      best_match_vector = user_vector\n",
        "print(\"the best match value is {0}. The best match ID is {1}\".format(best_match, best_match_id))"
      ],
      "metadata": {
        "colab": {
          "base_uri": "https://localhost:8080/"
        },
        "id": "AoRjhJEQK1Tk",
        "outputId": "9c4ceefb-0304-4ee8-afd3-b2138d521256"
      },
      "execution_count": null,
      "outputs": [
        {
          "output_type": "stream",
          "name": "stdout",
          "text": [
            "the best match value is 14.832396974191326. The best match ID is 737\n"
          ]
        }
      ]
    },
    {
      "cell_type": "code",
      "source": [
        "recommend_list = []\n",
        "for i, log in enumerate(zip(my_vector, best_match_vector)):\n",
        "  log1, log2 = log\n",
        "  if log1 < 1. and log2 > 0.:\n",
        "    recommend_list.append(i)\n",
        "print(recommend_list)"
      ],
      "metadata": {
        "colab": {
          "base_uri": "https://localhost:8080/"
        },
        "id": "UF1qV6n8MmK9",
        "outputId": "423fefd3-f8dc-4906-fa3e-c32bb3b09a0d"
      },
      "execution_count": null,
      "outputs": [
        {
          "output_type": "stream",
          "name": "stdout",
          "text": [
            "[297, 312, 317, 342, 356, 366, 379, 384, 392, 402, 404, 407, 417, 422, 428, 433, 448, 454, 469, 473, 495, 510, 516, 526, 527, 549, 567, 602, 635, 649, 650, 654, 658, 661, 664, 696, 731, 746, 750, 754, 915, 918, 925, 929, 950, 968, 1015, 1046]\n"
          ]
        }
      ]
    },
    {
      "cell_type": "code",
      "source": [
        "def compute_cos_similiarity(v1, v2):\n",
        "  norm1 = np.sqrt(np.sum(np.square(v1)))\n",
        "  norm2 = np.sqrt(np.sum(np.square(v2)))\n",
        "  dot = np.dot(v1,v2)\n",
        "  return dot/(norm1*norm2)\n"
      ],
      "metadata": {
        "id": "kcR4YlSfM1m7"
      },
      "execution_count": 2,
      "outputs": []
    },
    {
      "cell_type": "code",
      "source": [
        "my_id, my_vector = 0, adj_matrix[0]\n",
        "best_match, best_match_id, best_match_vector = -1, -1, [] \n",
        "# The lowest value limit of a simple cosine function is \"-1\".\n",
        "for user_id, user_vector in enumerate(adj_matrix):\n",
        "  if user_id != my_id:\n",
        "    cos_similarity = compute_cos_similiarity(my_vector, user_vector)\n",
        "    if cos_similarity > best_match:\n",
        "      best_match = cos_similarity\n",
        "      best_match_id = user_id\n",
        "      best_match_vector = user_vector\n",
        "print(\"the best match value is {0}. The best match ID is {1}\".format(best_match, best_match_id))"
      ],
      "metadata": {
        "colab": {
          "base_uri": "https://localhost:8080/"
        },
        "id": "LZB3PiatNobE",
        "outputId": "791036db-70a7-4de4-ed29-5186e22c001d"
      },
      "execution_count": null,
      "outputs": [
        {
          "output_type": "stream",
          "name": "stdout",
          "text": [
            "the best match value is 0.5278586163659506. The best match ID is 915\n"
          ]
        }
      ]
    },
    {
      "cell_type": "code",
      "source": [
        "recommend_list = []\n",
        "for i, log in enumerate(zip(my_vector, best_match_vector)):\n",
        "  log1, log2 = log\n",
        "  if log1 < 1. and log2 > 0.:\n",
        "    recommend_list.append(i)\n",
        "print(recommend_list)"
      ],
      "metadata": {
        "colab": {
          "base_uri": "https://localhost:8080/"
        },
        "id": "vqlo7Cw_OH79",
        "outputId": "da7d596e-cf68-43bd-ea55-969396cd5a8a"
      },
      "execution_count": null,
      "outputs": [
        {
          "output_type": "stream",
          "name": "stdout",
          "text": [
            "[272, 275, 279, 280, 283, 285, 289, 294, 297, 316, 317, 355, 365, 366, 368, 379, 380, 381, 384, 386, 392, 398, 401, 404, 416, 420, 422, 424, 426, 427, 430, 432, 450, 460, 461, 466, 469, 471, 473, 474, 475, 479, 482, 483, 497, 505, 508, 510, 511, 522, 526, 527, 529, 530, 534, 536, 540, 545, 548, 549, 556, 557, 558, 560, 565, 567, 568, 569, 577, 580, 581, 582, 592, 596, 630, 635, 639, 641, 649, 651, 654, 673, 677, 678, 683, 684, 692, 696, 701, 703, 707, 708, 709, 712, 714, 719, 720, 726, 731, 734, 736, 738, 740, 745, 747, 754, 755, 761, 762, 763, 766, 780, 789, 791, 805, 819, 823, 824, 830, 843, 862, 865, 918, 929, 930, 938, 942, 943, 947, 958, 959, 960, 970, 977, 1004, 1008, 1009, 1010, 1013, 1041, 1045, 1069, 1072, 1073, 1078, 1097, 1100, 1108, 1112, 1118, 1134, 1193, 1205, 1207, 1216, 1219, 1267, 1334, 1400, 1427, 1596, 1681]\n"
          ]
        }
      ]
    },
    {
      "cell_type": "code",
      "source": [
        "adj_matrix = np.ndarray(shape, dtype=int)\n",
        "for user_id, movie_id, ratings, time in raw_data:\n",
        "  adj_matrix[user_id][movie_id] = ratings\n",
        "adj_matrix"
      ],
      "metadata": {
        "id": "lLdL9mFoOe4c",
        "outputId": "e44772ec-f192-40cc-b177-d4eee695ce54",
        "colab": {
          "base_uri": "https://localhost:8080/"
        }
      },
      "execution_count": null,
      "outputs": [
        {
          "output_type": "execute_result",
          "data": {
            "text/plain": [
              "array([[5, 3, 4, ..., 0, 0, 0],\n",
              "       [4, 0, 0, ..., 0, 0, 0],\n",
              "       [0, 0, 0, ..., 0, 0, 0],\n",
              "       ...,\n",
              "       [5, 0, 0, ..., 0, 0, 0],\n",
              "       [0, 0, 0, ..., 0, 0, 0],\n",
              "       [0, 5, 0, ..., 0, 0, 0]])"
            ]
          },
          "metadata": {},
          "execution_count": 15
        }
      ]
    },
    {
      "cell_type": "code",
      "source": [
        "my_id, my_vector = 0, adj_matrix[0]\n",
        "best_match, best_match_id, best_match_vector = 9999, -1, [] \n",
        "for user_id, user_vector in enumerate(adj_matrix):\n",
        "  if user_id != my_id:\n",
        "    euclidean_dist = np.sqrt(np.sum(np.square(my_vector - user_vector)))\n",
        "    if euclidean_dist < best_match:\n",
        "      best_match = euclidean_dist\n",
        "      best_match_id = user_id\n",
        "      best_match_vector = user_vector\n",
        "print(\"the best match value is {0}. The best match ID is {1}\".format(best_match, best_match_id))"
      ],
      "metadata": {
        "id": "rlPma1puQHPR",
        "outputId": "8d44b434-c672-4c29-ce5c-f3cbfffb3825",
        "colab": {
          "base_uri": "https://localhost:8080/"
        }
      },
      "execution_count": null,
      "outputs": [
        {
          "output_type": "stream",
          "name": "stdout",
          "text": [
            "the best match value is 55.06359959174482. The best match ID is 737\n"
          ]
        }
      ]
    },
    {
      "cell_type": "code",
      "source": [
        "my_id, my_vector = 0, adj_matrix[0]\n",
        "best_match, best_match_id, best_match_vector = -1, -1, [] \n",
        "for user_id, user_vector in enumerate(adj_matrix):\n",
        "  if user_id != my_id:\n",
        "    cos_similarity = compute_cos_similiarity(my_vector, user_vector)\n",
        "    if cos_similarity > best_match:\n",
        "      best_match = cos_similarity\n",
        "      best_match_id = user_id\n",
        "      best_match_vector = user_vector\n",
        "print(\"the best match value is {0}. The best match ID is {1}\".format(best_match, best_match_id))"
      ],
      "metadata": {
        "id": "2PQ08WzsQS7b",
        "outputId": "61c7715b-1204-4942-c195-b4d2a94dfd2a",
        "colab": {
          "base_uri": "https://localhost:8080/"
        }
      },
      "execution_count": null,
      "outputs": [
        {
          "output_type": "stream",
          "name": "stdout",
          "text": [
            "the best match value is 0.569065731527988. The best match ID is 915\n"
          ]
        }
      ]
    },
    {
      "cell_type": "markdown",
      "source": [
        "***Collaborative filtering ***\n",
        "Taking similarity in both contents and users into account"
      ],
      "metadata": {
        "id": "bQt1pFtPQdxF"
      }
    },
    {
      "cell_type": "code",
      "source": [
        "from surprise import KNNBasic, SVD, SVDpp, NMF\n",
        "from surprise import Dataset\n",
        "from surprise.model_selection import cross_validate"
      ],
      "metadata": {
        "id": "19L8r0PHRHp0"
      },
      "execution_count": null,
      "outputs": []
    },
    {
      "cell_type": "code",
      "source": [
        "data = Dataset.load_builtin('ml-100k', prompt = False)"
      ],
      "metadata": {
        "id": "33oSG3rxR-uZ"
      },
      "execution_count": null,
      "outputs": []
    },
    {
      "cell_type": "code",
      "source": [
        "model = KNNBasic()\n",
        "cross_validate(model, data, measures=['rmse', 'mae'], cv=5, n_jobs = 4, verbose= True)\n",
        "# Root Mean Square Error(RMSE), Mean Absolute Error(MAE)\n",
        "#n_jobs parameter can be used to distribute and exploit all the CPUs available in the local computer."
      ],
      "metadata": {
        "colab": {
          "base_uri": "https://localhost:8080/"
        },
        "id": "GGndHMlBSPBX",
        "outputId": "8e9abe15-78b3-4dba-eda5-d866227a96c9"
      },
      "execution_count": null,
      "outputs": [
        {
          "output_type": "stream",
          "name": "stdout",
          "text": [
            "Evaluating RMSE, MAE of algorithm KNNBasic on 5 split(s).\n",
            "\n",
            "                  Fold 1  Fold 2  Fold 3  Fold 4  Fold 5  Mean    Std     \n",
            "RMSE (testset)    0.9806  0.9741  0.9768  0.9846  0.9732  0.9779  0.0042  \n",
            "MAE (testset)     0.7736  0.7682  0.7724  0.7779  0.7697  0.7723  0.0034  \n",
            "Fit time          0.36    0.50    0.69    0.66    0.35    0.51    0.14    \n",
            "Test time         5.96    6.51    6.61    5.28    3.83    5.64    1.02    \n"
          ]
        },
        {
          "output_type": "execute_result",
          "data": {
            "text/plain": [
              "{'fit_time': (0.35929393768310547,\n",
              "  0.4950118064880371,\n",
              "  0.6878383159637451,\n",
              "  0.6633689403533936,\n",
              "  0.35079169273376465),\n",
              " 'test_mae': array([0.77357702, 0.76817901, 0.772427  , 0.7778605 , 0.76968265]),\n",
              " 'test_rmse': array([0.98062048, 0.97406104, 0.97679807, 0.98459271, 0.97322377]),\n",
              " 'test_time': (5.95732569694519,\n",
              "  6.511231422424316,\n",
              "  6.607081890106201,\n",
              "  5.282946348190308,\n",
              "  3.8317534923553467)}"
            ]
          },
          "metadata": {},
          "execution_count": 20
        }
      ]
    },
    {
      "cell_type": "code",
      "source": [
        "model = SVD()\n",
        "cross_validate(model, data, measures=['rmse', 'mae'], cv=5, n_jobs = 4, verbose= True)"
      ],
      "metadata": {
        "colab": {
          "base_uri": "https://localhost:8080/"
        },
        "id": "oqQNlarQTpeH",
        "outputId": "14aa1e08-caed-4e67-bf2f-ed5b684d678e"
      },
      "execution_count": null,
      "outputs": [
        {
          "output_type": "stream",
          "name": "stdout",
          "text": [
            "Evaluating RMSE, MAE of algorithm SVD on 5 split(s).\n",
            "\n",
            "                  Fold 1  Fold 2  Fold 3  Fold 4  Fold 5  Mean    Std     \n",
            "RMSE (testset)    0.9380  0.9345  0.9332  0.9419  0.9357  0.9367  0.0031  \n",
            "MAE (testset)     0.7401  0.7354  0.7353  0.7424  0.7365  0.7379  0.0028  \n",
            "Fit time          12.08   15.99   16.31   13.36   8.31    13.21   2.92    \n",
            "Test time         0.75    0.53    0.41    0.27    0.18    0.43    0.20    \n"
          ]
        },
        {
          "output_type": "execute_result",
          "data": {
            "text/plain": [
              "{'fit_time': (12.084012985229492,\n",
              "  15.991334915161133,\n",
              "  16.312626838684082,\n",
              "  13.36305046081543,\n",
              "  8.30781078338623),\n",
              " 'test_mae': array([0.74010801, 0.73537773, 0.7353004 , 0.74240075, 0.73648617]),\n",
              " 'test_rmse': array([0.9379747 , 0.93449967, 0.93319167, 0.94191635, 0.93572853]),\n",
              " 'test_time': (0.7507827281951904,\n",
              "  0.5320501327514648,\n",
              "  0.41173458099365234,\n",
              "  0.2689628601074219,\n",
              "  0.1817939281463623)}"
            ]
          },
          "metadata": {},
          "execution_count": 21
        }
      ]
    },
    {
      "cell_type": "code",
      "source": [
        "model = NMF()\n",
        "cross_validate(model, data, measures=['rmse', 'mae'], cv=5, n_jobs = 4, verbose= True)"
      ],
      "metadata": {
        "colab": {
          "base_uri": "https://localhost:8080/"
        },
        "id": "PGNDqRp1TsCe",
        "outputId": "3ec5439e-e6c7-49b8-ec5f-4f7531591a9b"
      },
      "execution_count": null,
      "outputs": [
        {
          "output_type": "stream",
          "name": "stdout",
          "text": [
            "Evaluating RMSE, MAE of algorithm NMF on 5 split(s).\n",
            "\n",
            "                  Fold 1  Fold 2  Fold 3  Fold 4  Fold 5  Mean    Std     \n",
            "RMSE (testset)    0.9605  0.9661  0.9612  0.9762  0.9541  0.9636  0.0074  \n",
            "MAE (testset)     0.7579  0.7608  0.7563  0.7648  0.7488  0.7577  0.0053  \n",
            "Fit time          13.63   15.57   16.09   13.34   8.78    13.48   2.58    \n",
            "Test time         0.62    0.48    0.27    0.22    0.13    0.34    0.18    \n"
          ]
        },
        {
          "output_type": "execute_result",
          "data": {
            "text/plain": [
              "{'fit_time': (13.625821113586426,\n",
              "  15.56550121307373,\n",
              "  16.09491801261902,\n",
              "  13.344173669815063,\n",
              "  8.775670051574707),\n",
              " 'test_mae': array([0.75793043, 0.76078678, 0.75630993, 0.764832  , 0.74877719]),\n",
              " 'test_rmse': array([0.96050237, 0.96610088, 0.96122116, 0.97620751, 0.95412024]),\n",
              " 'test_time': (0.617149829864502,\n",
              "  0.48038673400878906,\n",
              "  0.26502037048339844,\n",
              "  0.22306489944458008,\n",
              "  0.13419532775878906)}"
            ]
          },
          "metadata": {},
          "execution_count": 22
        }
      ]
    },
    {
      "cell_type": "code",
      "source": [
        "# Takes too much time\n",
        "model = SVDpp()\n",
        "cross_validate(model, data, measures=['rmse', 'mae'], cv=5, n_jobs = 4, verbose= True)"
      ],
      "metadata": {
        "id": "80Ei1FT2TxnF"
      },
      "execution_count": null,
      "outputs": []
    },
    {
      "cell_type": "markdown",
      "source": [
        "***Hybrid filtering***"
      ],
      "metadata": {
        "id": "JuyPhnaSato5"
      }
    },
    {
      "cell_type": "code",
      "source": [
        "import numpy as np\n",
        "from sklearn.decomposition import  randomized_svd, non_negative_factorization\n",
        "from surprise import Dataset"
      ],
      "metadata": {
        "id": "4A4iBgb8aOBH"
      },
      "execution_count": 3,
      "outputs": []
    },
    {
      "cell_type": "code",
      "source": [
        "data = Dataset.load_builtin('ml-100k', prompt=False)\n",
        "raw_data = np.array(data.raw_ratings, dtype=int)\n",
        "raw_data[:,0] -=1\n",
        "raw_data[:,1] -=1\n",
        " "
      ],
      "metadata": {
        "id": "g3R6H53MbC62",
        "colab": {
          "base_uri": "https://localhost:8080/"
        },
        "outputId": "22dda665-93c0-4922-eca6-5fa9680f57b0"
      },
      "execution_count": 4,
      "outputs": [
        {
          "output_type": "stream",
          "name": "stdout",
          "text": [
            "Trying to download dataset from http://files.grouplens.org/datasets/movielens/ml-100k.zip...\n",
            "Done! Dataset ml-100k has been saved to /root/.surprise_data/ml-100k\n"
          ]
        }
      ]
    },
    {
      "cell_type": "code",
      "source": [
        "n_user = np.max(raw_data[:,0])\n",
        "n_movies = np.max(raw_data[:,1])\n",
        "shape = (n_user+1, n_movies+1)\n",
        "shape"
      ],
      "metadata": {
        "colab": {
          "base_uri": "https://localhost:8080/"
        },
        "id": "4J4F1kECbfQf",
        "outputId": "1e2e518d-fc81-47fd-8105-b0dadbfd60d4"
      },
      "execution_count": 5,
      "outputs": [
        {
          "output_type": "execute_result",
          "data": {
            "text/plain": [
              "(943, 1682)"
            ]
          },
          "metadata": {},
          "execution_count": 5
        }
      ]
    },
    {
      "cell_type": "code",
      "source": [
        "adj_matrix = np.ndarray(shape, dtype=int)\n",
        "for user_id, movie_id, rating, time in raw_data:\n",
        "  adj_matrix[user_id][movie_id] = rating\n",
        "adj_matrix"
      ],
      "metadata": {
        "colab": {
          "base_uri": "https://localhost:8080/"
        },
        "id": "FMGOY9d_b02d",
        "outputId": "3140bbc9-59b8-4568-8cac-226c971fd7e9"
      },
      "execution_count": 6,
      "outputs": [
        {
          "output_type": "execute_result",
          "data": {
            "text/plain": [
              "array([[5, 3, 4, ..., 0, 0, 0],\n",
              "       [4, 0, 0, ..., 0, 0, 0],\n",
              "       [0, 0, 0, ..., 0, 0, 0],\n",
              "       ...,\n",
              "       [5, 0, 0, ..., 0, 0, 0],\n",
              "       [0, 0, 0, ..., 0, 0, 0],\n",
              "       [0, 5, 0, ..., 0, 0, 0]])"
            ]
          },
          "metadata": {},
          "execution_count": 6
        }
      ]
    },
    {
      "cell_type": "code",
      "source": [
        "U, S, V = randomized_svd(adj_matrix, n_components=2)\n",
        "S = np.diag(S)\n",
        "\n",
        "# SVD model allows us to decompose data into U and V matrix which are, in turn, scaled by S matrix. "
      ],
      "metadata": {
        "id": "e5GLg2vMcaZQ",
        "colab": {
          "base_uri": "https://localhost:8080/"
        },
        "outputId": "4196690d-28b5-4b90-978e-6ab73148eb16"
      },
      "execution_count": 7,
      "outputs": [
        {
          "output_type": "stream",
          "name": "stderr",
          "text": [
            "/usr/local/lib/python3.7/dist-packages/sklearn/utils/extmath.py:376: FutureWarning: If 'random_state' is not supplied, the current default is to use 0 as a fixed seed. This will change to  None in version 1.2 leading to non-deterministic results that better reflect nature of the randomized_svd solver. If you want to silence this warning, set 'random_state' to an integer seed or to None explicitly depending if you want your code to be deterministic or not.\n",
            "  FutureWarning,\n"
          ]
        }
      ]
    },
    {
      "cell_type": "code",
      "source": [
        "print(U.shape)\n",
        "print(S.shape)\n",
        "print(V.shape)"
      ],
      "metadata": {
        "colab": {
          "base_uri": "https://localhost:8080/"
        },
        "id": "qFFAs0KCghV4",
        "outputId": "126a42d7-c038-40c5-c7b3-95e7eb25870d"
      },
      "execution_count": 8,
      "outputs": [
        {
          "output_type": "stream",
          "name": "stdout",
          "text": [
            "(943, 2)\n",
            "(2, 2)\n",
            "(2, 1682)\n"
          ]
        }
      ]
    },
    {
      "cell_type": "code",
      "source": [
        "np.matmul(np.matmul(U,S),V)"
      ],
      "metadata": {
        "colab": {
          "base_uri": "https://localhost:8080/"
        },
        "id": "bg5I1mbGgtgt",
        "outputId": "c4c70f76-5db6-4b44-a661-f17267092819"
      },
      "execution_count": 9,
      "outputs": [
        {
          "output_type": "execute_result",
          "data": {
            "text/plain": [
              "array([[ 3.91732663e+00,  1.47276644e+00,  7.98261988e-01, ...,\n",
              "         6.24907189e-04,  1.41100852e-02,  1.36545878e-02],\n",
              "       [ 1.85777226e+00,  3.96191175e-01,  5.05705740e-01, ...,\n",
              "         5.38862978e-03,  1.77237914e-03,  5.26968095e-04],\n",
              "       [ 8.94989517e-01,  1.71578497e-01,  2.51738682e-01, ...,\n",
              "         2.92094923e-03,  5.39937171e-04, -1.25733753e-04],\n",
              "       ...,\n",
              "       [ 9.92051955e-01,  2.10814957e-01,  2.70363365e-01, ...,\n",
              "         2.89019297e-03,  9.34221962e-04,  2.66612193e-04],\n",
              "       [ 1.30425401e+00,  5.27669941e-01,  2.50080165e-01, ...,\n",
              "        -4.20677765e-04,  5.30525683e-03,  5.28069948e-03],\n",
              "       [ 2.82999397e+00,  9.70812247e-01,  6.15871694e-01, ...,\n",
              "         2.02091492e-03,  8.67740813e-03,  8.03107892e-03]])"
            ]
          },
          "metadata": {},
          "execution_count": 9
        }
      ]
    },
    {
      "cell_type": "code",
      "source": [
        "# For SVD to be used\n",
        "# Cosine similarity should be used.\n",
        "my_id, my_vector = 0, U[0] # Based on the users' preference\n",
        "best_match, best_match_id, best_match_vector = -1, -1, [] \n",
        "for user_id, user_vector in enumerate(U):\n",
        "  if user_id != my_id:\n",
        "    cos_similarity = compute_cos_similiarity(my_vector, user_vector)\n",
        "    if cos_similarity > best_match:\n",
        "      best_match = cos_similarity\n",
        "      best_match_id = user_id\n",
        "      best_match_vector = user_vector\n",
        "print(\"the best match value is {0}. The best match ID is {1}\".format(best_match, best_match_id))\n",
        "# Note that the predictability is way higher than that of content-based filtering alone. "
      ],
      "metadata": {
        "colab": {
          "base_uri": "https://localhost:8080/"
        },
        "id": "LCUtpAU_g9RT",
        "outputId": "f9c044a0-4f13-40fb-f741-3a5d02316484"
      },
      "execution_count": 10,
      "outputs": [
        {
          "output_type": "stream",
          "name": "stdout",
          "text": [
            "the best match value is 0.9999942295956324. The best match ID is 235\n"
          ]
        }
      ]
    },
    {
      "cell_type": "code",
      "source": [
        "recommend_list = []\n",
        "for i, log in enumerate(zip(adj_matrix[my_id], adj_matrix[best_match_id])):\n",
        "  log1, log2 = log\n",
        "  if log1 < 1. and log2 > 0.:\n",
        "    recommend_list.append(i)\n",
        "print(recommend_list)"
      ],
      "metadata": {
        "colab": {
          "base_uri": "https://localhost:8080/"
        },
        "id": "At4Rgn-KkaQf",
        "outputId": "d4d0b984-bcf4-4f5e-ede2-f1d6ed6ea8ea"
      },
      "execution_count": 11,
      "outputs": [
        {
          "output_type": "stream",
          "name": "stdout",
          "text": [
            "[272, 273, 274, 281, 285, 288, 293, 297, 303, 306, 312, 317, 327, 332, 369, 410, 418, 419, 422, 426, 428, 431, 434, 442, 461, 475, 477, 482, 495, 503, 504, 505, 506, 509, 519, 520, 522, 525, 531, 545, 548, 590, 594, 595, 613, 631, 654, 658, 660, 672, 684, 685, 691, 695, 698, 704, 716, 728, 734, 749, 755, 863, 865, 933, 1012, 1038, 1101, 1327, 1400]\n"
          ]
        }
      ]
    },
    {
      "cell_type": "markdown",
      "source": [
        ""
      ],
      "metadata": {
        "id": "3cW5tWGjmXNM"
      }
    },
    {
      "cell_type": "code",
      "source": [
        "# Based on the contents' similarity \n",
        "# According to SVD, A=USV(transposed)\n",
        "subj_movie_id, subj_movie_vector = 0, V.T[0] \n",
        "best_match, best_match_movie_id, best_match_movie_vector = -1, -1, [] \n",
        "for movie_id, movie_vector in enumerate(V.T):\n",
        "  if movie_id != subj_movie_id:\n",
        "    cos_similarity = compute_cos_similiarity(subj_movie_vector, movie_vector)\n",
        "    if cos_similarity > best_match:\n",
        "      best_match = cos_similarity\n",
        "      best_match_movie_id = movie_id\n",
        "      best_match_movie_vector = movie_vector\n",
        "print(\"the best match value is {0}. The best match movie ID is {1}\".format(best_match, best_match_movie_id))\n",
        "# Note that the predictability is way higher than that of content-based filtering alone. "
      ],
      "metadata": {
        "colab": {
          "base_uri": "https://localhost:8080/"
        },
        "id": "pPwYhDwhmILY",
        "outputId": "1526c0e5-aaef-4866-ba18-502dd9e8a0f7"
      },
      "execution_count": 12,
      "outputs": [
        {
          "output_type": "stream",
          "name": "stdout",
          "text": [
            "the best match value is 0.9999999951364144. The best match movie ID is 1287\n"
          ]
        }
      ]
    },
    {
      "cell_type": "code",
      "source": [
        "# Non-negative factorization\n",
        "A, B, iter = non_negative_factorization(adj_matrix, n_components=2)"
      ],
      "metadata": {
        "colab": {
          "base_uri": "https://localhost:8080/"
        },
        "id": "qCAbE2a3avup",
        "outputId": "39538526-abc2-4c66-91e9-fc457eda7585"
      },
      "execution_count": 13,
      "outputs": [
        {
          "output_type": "stream",
          "name": "stderr",
          "text": [
            "/usr/local/lib/python3.7/dist-packages/sklearn/decomposition/_nmf.py:294: FutureWarning: The 'init' value, when 'init=None' and n_components is less than n_samples and n_features, will be changed from 'nndsvd' to 'nndsvda' in 1.1 (renaming of 0.26).\n",
            "  FutureWarning,\n"
          ]
        }
      ]
    },
    {
      "cell_type": "code",
      "source": [
        "np.matmul(A, B)"
      ],
      "metadata": {
        "colab": {
          "base_uri": "https://localhost:8080/"
        },
        "id": "Iq-_tMxoa-OY",
        "outputId": "1b6b7369-1aac-4e8c-b37e-5092237fe8b5"
      },
      "execution_count": 16,
      "outputs": [
        {
          "output_type": "execute_result",
          "data": {
            "text/plain": [
              "array([[3.71108858e+00, 1.48454102e+00, 7.39535363e-01, ...,\n",
              "        3.64490531e-03, 1.45506510e-02, 1.44110916e-02],\n",
              "       [2.11724416e+00, 2.37338725e-01, 5.51650703e-01, ...,\n",
              "        4.76092332e-03, 3.03585167e-05, 0.00000000e+00],\n",
              "       [9.85272360e-01, 1.10447010e-01, 2.56713988e-01, ...,\n",
              "        2.21552443e-03, 1.41275191e-05, 0.00000000e+00],\n",
              "       ...,\n",
              "       [1.04485667e+00, 1.17126289e-01, 2.72238757e-01, ...,\n",
              "        2.34950819e-03, 1.49818804e-05, 0.00000000e+00],\n",
              "       [1.45758857e+00, 5.42112787e-01, 2.99181695e-01, ...,\n",
              "        1.61177659e-03, 5.15921394e-03, 5.10771005e-03],\n",
              "       [2.44733103e+00, 9.41208708e-01, 4.95740038e-01, ...,\n",
              "        2.56992125e-03, 9.08287324e-03, 8.99389282e-03]])"
            ]
          },
          "metadata": {},
          "execution_count": 16
        }
      ]
    },
    {
      "cell_type": "code",
      "source": [
        "# For NMF to be used\n",
        "# Cosine similarity should be used.\n",
        "my_id, my_vector = 0, A[0] # Based on the users' preference\n",
        "best_match, best_match_id, best_match_vector = -1, -1, [] \n",
        "for user_id, user_vector in enumerate(A):\n",
        "  if user_id != my_id:\n",
        "    cos_similarity = compute_cos_similiarity(my_vector, user_vector)\n",
        "    if cos_similarity > best_match:\n",
        "      best_match = cos_similarity\n",
        "      best_match_id = user_id\n",
        "      best_match_vector = user_vector\n",
        "print(\"the best match value is {0}. The best match ID is {1}\".format(best_match, best_match_id))\n",
        "# Note that the predictability is way higher than that of content-based filtering alone. "
      ],
      "metadata": {
        "colab": {
          "base_uri": "https://localhost:8080/"
        },
        "id": "2QtLv_WPbJhh",
        "outputId": "8f7db2e4-4a88-417e-ae83-0698cc0069b5"
      },
      "execution_count": 20,
      "outputs": [
        {
          "output_type": "stream",
          "name": "stdout",
          "text": [
            "the best match value is 0.9999996856299355. The best match ID is 314\n"
          ]
        }
      ]
    },
    {
      "cell_type": "code",
      "source": [
        "recommend_list = []\n",
        "for i, log in enumerate(zip(adj_matrix[my_id], adj_matrix[best_match_id])):\n",
        "  log1, log2 = log\n",
        "  if log1 < 1. and log2 > 0.:\n",
        "    recommend_list.append(i)\n",
        "print(recommend_list)"
      ],
      "metadata": {
        "colab": {
          "base_uri": "https://localhost:8080/"
        },
        "id": "5tPpHiS_bpmv",
        "outputId": "ea81cb57-53fa-43eb-fe10-760c25fcbdda"
      },
      "execution_count": 21,
      "outputs": [
        {
          "output_type": "stream",
          "name": "stdout",
          "text": [
            "[272, 275, 284, 285, 287, 300, 301, 302, 304, 317, 323, 326, 339, 381, 427, 430, 432, 460, 465, 474, 503, 507, 512, 519, 522, 530, 602, 641, 644, 650, 653, 656, 672, 708, 731, 740, 745, 769, 791, 1064, 1083]\n"
          ]
        }
      ]
    },
    {
      "cell_type": "code",
      "source": [
        "# Based on the contents' similarity \n",
        "subj_movie_id, subj_movie_vector = 0, B.T[0] \n",
        "best_match, best_match_movie_id, best_match_movie_vector = -1, -1, [] \n",
        "for movie_id, movie_vector in enumerate(B.T):\n",
        "  if movie_id != subj_movie_id:\n",
        "    cos_similarity = compute_cos_similiarity(subj_movie_vector, movie_vector)\n",
        "    if cos_similarity > best_match:\n",
        "      best_match = cos_similarity\n",
        "      best_match_movie_id = movie_id\n",
        "      best_match_movie_vector = movie_vector\n",
        "print(\"the best match value is {0}. The best match movie ID is {1}\".format(best_match, best_match_movie_id))\n",
        "# Note that the predictability is way higher than that of content-based filtering alone. "
      ],
      "metadata": {
        "colab": {
          "base_uri": "https://localhost:8080/"
        },
        "id": "dGZFISuSbeRT",
        "outputId": "ee61d502-10ed-4eda-c015-c8f408db242c"
      },
      "execution_count": 22,
      "outputs": [
        {
          "output_type": "stream",
          "name": "stdout",
          "text": [
            "the best match value is 0.9999999946284724. The best match movie ID is 255\n"
          ]
        }
      ]
    },
    {
      "cell_type": "code",
      "source": [
        "similarity_dict = {}\n",
        "for movie_id, movie_vector in enumerate(B.T):\n",
        "  if movie_id != subj_movie_id:\n",
        "    cos_similarity = compute_cos_similiarity(subj_movie_vector, movie_vector)\n",
        "    similarity_dict[movie_id] = cos_similarity\n",
        "print(similarity_dict)\n",
        "\n",
        "# dicts = {}\n",
        "# keys = range(4)\n",
        "# values = [\"Hi\", \"I\", \"am\", \"John\"]\n",
        "# for i in keys:\n",
        "#     for x in values:\n",
        "#         dicts[i] = x\n",
        "# print(dicts)\n"
      ],
      "metadata": {
        "colab": {
          "base_uri": "https://localhost:8080/"
        },
        "id": "VUQGROWqcG_n",
        "outputId": "76dd5a59-7cc3-48c8-80f8-76e75de7d5b1"
      },
      "execution_count": 28,
      "outputs": [
        {
          "output_type": "stream",
          "name": "stdout",
          "text": [
            "{1: 0.7453992552836144, 2: 0.9778019553097885, 3: 0.6827993409644434, 4: 0.9582159410181996, 5: 0.9303449599849453, 6: 0.9989994557051917, 7: 0.6597615958256962, 8: 0.9999746859409137, 9: 0.8531365101128774, 10: 0.9021990949201407, 11: 0.8477585197241269, 12: 0.9905732563485712, 13: 0.9914173107475107, 14: 0.9790870598456294, 15: 0.9777289515993084, 16: 0.9660183473033935, 17: 0.5348293361424394, 18: 0.9553030672328775, 19: 0.9992471227160664, 20: 0.9583216007966082, 21: 0.7793141357546742, 22: 0.5348293361424393, 23: 0.9995945944769513, 24: 0.9918752434227344, 25: 0.6812155133522629, 26: 0.9168108804560079, 27: 0.6588322580561894, 28: 0.8302135774037839, 29: 0.5348293361424393, 30: 0.8198914620781742, 31: 0.5363483547829446, 32: 0.8237419055258377, 33: 0.9801272482548652, 34: 0.7552556615847066, 35: 0.9480644941964066, 36: 0.5348293361424393, 37: 0.9055889267773505, 38: 0.7370390310119986, 39: 0.730312180534811, 40: 0.9960939158513925, 41: 0.8098579917150313, 42: 0.8108567021792883, 43: 0.7275006787641711, 44: 0.5348293361424393, 45: 0.5348293361424393, 46: 0.5348293361424394, 47: 0.5504801860076177, 48: 0.82531366622614, 49: 0.9811790491886274, 50: 0.7392783147760893, 51: 0.5348293361424394, 52: 0.7721737146894386, 53: 0.7956587399212208, 54: 0.8536774362012657, 55: 0.7732312176357634, 56: 0.6583641583219775, 57: 0.6208229912883174, 58: 0.5474985785930263, 59: 0.5348293361424393, 60: 0.5807279656686395, 61: 0.7419312710851107, 62: 0.6651744575270842, 63: 0.7233654212286924, 64: 0.6468463479378139, 65: 0.7389893247605415, 66: 0.7770820007130644, 67: 0.7702513242778704, 68: 0.6593898721366327, 69: 0.685305527387565, 70: 0.6732341755122946, 71: 0.6301144818451166, 72: 0.6016123330465386, 73: 0.5348293361424393, 74: 0.68263203395546, 75: 0.5902235229776058, 76: 0.7497587798144497, 77: 0.8241481614883522, 78: 0.7535263730255825, 79: 0.6499136154253229, 80: 0.5589442000452239, 81: 0.673501795775344, 82: 0.6045763194168317, 83: 0.9161381395414214, 84: 0.7435526599420645, 85: 0.5405412583961491, 86: 0.6890157064586594, 87: 0.6227815657454826, 88: 0.5543443288747291, 89: 0.7099087861171538, 90: 0.5671326373464424, 91: 0.7723933859142111, 92: 0.9873728365598836, 93: 0.6090705598109984, 94: 0.7510575221830615, 95: 0.7421588543127834, 96: 0.5912064003098376, 97: 0.7393337545559118, 98: 0.5348293361424394, 99: 0.9999514285064423, 100: 0.5348293361424394, 101: 0.5348293361424393, 102: 0.9986760962873199, 103: 0.9871687305697544, 104: 0.9999497251426883, 105: 0.9263996453794391, 106: 0.9772446355300604, 107: 0.9973727053095482, 108: 0.9942487420375924, 109: 0.5884433713372622, 110: 0.9665921069193386, 111: 0.9953079751245865, 112: 0.8900361768637683, 113: 0.5810282736089798, 114: 0.5808935982188633, 115: 0.9812561813314349, 116: 0.9526230560903506, 117: 0.9705724818335104, 118: 0.5348293361424393, 119: 0.9815417095120333, 120: 0.9935700542795832, 121: 0.9804298213044927, 122: 0.9402369320343347, 123: 0.9998858901457763, 124: 0.9521989501517907, 125: 0.8611307775371858, 126: 0.9638642891690888, 127: 0.8763487245986372, 128: 0.9815352218119606, 129: 0.9276544896867073, 130: 0.5348293361424394, 131: 0.5348293361424394, 132: 0.5348293361424393, 133: 0.5348293361424394, 134: 0.5348293361424394, 135: 0.5348293361424393, 136: 0.9708675354444414, 137: 0.9683402299313, 138: 0.574776200338746, 139: 0.7420673111550649, 140: 0.5348293361424393, 141: 0.5348293361424393, 142: 0.5930018789155699, 143: 0.7756887405766593, 144: 0.7650771828247335, 145: 0.8449601062780643, 146: 0.9199945739079965, 147: 0.9193038953504294, 148: 0.9994968872749529, 149: 0.9769549501860516, 150: 0.9838864083584653, 151: 0.5348293361424393, 152: 0.5423689405396025, 153: 0.5348293361424394, 154: 0.790511025618004, 155: 0.7775665099921526, 156: 0.59269966587314, 157: 0.8270942333325556, 158: 0.8339833893814366, 159: 0.5614003380728405, 160: 0.6893470445250142, 161: 0.5348293361424394, 162: 0.5348293361424394, 163: 0.7553077110670141, 164: 0.5348293361424394, 165: 0.5348293361424393, 166: 0.5731555154167037, 167: 0.5788867278483195, 168: 0.6143372510224419, 169: 0.5348293361424394, 170: 0.6415056161569834, 171: 0.6773686862488945, 172: 0.6771856573384253, 173: 0.6704705165122374, 174: 0.5348293361424393, 175: 0.6573807480426251, 176: 0.5348293361424394, 177: 0.5348293361424394, 178: 0.5348293361424393, 179: 0.5348293361424394, 180: 0.984800691533564, 181: 0.640849389339565, 182: 0.6075096335535155, 183: 0.8147284972726664, 184: 0.5348293361424394, 185: 0.5348293361424393, 186: 0.5348293361424394, 187: 0.5586585521206066, 188: 0.5425735780648978, 189: 0.5348293361424393, 190: 0.5348293361424393, 191: 0.5348293361424394, 192: 0.5348293361424393, 193: 0.5348293361424393, 194: 0.6502318139266995, 195: 0.5968826724624842, 196: 0.5348293361424393, 197: 0.5899409019433085, 198: 0.5348293361424393, 199: 0.6692509050710044, 200: 0.8191691272012016, 201: 0.6379981713270658, 202: 0.6287025943633762, 203: 0.6469905244391024, 204: 0.5348293361424394, 205: 0.6438619934011263, 206: 0.5348293361424394, 207: 0.5348293361424394, 208: 0.5348293361424394, 209: 0.6701761717900886, 210: 0.5348293361424394, 211: 0.5348293361424393, 212: 0.5348293361424394, 213: 0.5348293361424394, 214: 0.5941842236433842, 215: 0.6195440117724292, 216: 0.700876172338488, 217: 0.7631915064545787, 218: 0.7411609702063846, 219: 0.9182404224121726, 220: 0.987070599140757, 221: 0.999554220358024, 222: 0.8048860918776847, 223: 0.9205559871218484, 224: 0.9986437924862557, 225: 0.7443657905081379, 226: 0.6780610909580741, 227: 0.6098841930456808, 228: 0.6212617242007329, 229: 0.6346202573271104, 230: 0.7317197361075587, 231: 0.7316721953113476, 232: 0.7593722522619888, 233: 0.642069893084649, 234: 0.999994127494346, 235: 0.954340355782532, 236: 0.953450808899806, 237: 0.5645909329072935, 238: 0.6791596487947069, 239: 0.989592163159727, 240: 0.6732834095377039, 241: 0.9059585850826466, 242: 0.8509118597422761, 243: 0.8449601062780643, 244: 0.8449601062780644, 245: 0.8970765604065623, 246: 0.9933981183439269, 247: 0.9551633235000597, 248: 0.9401017518455748, 249: 0.9540613477455492, 250: 0.974371366915357, 251: 0.9476498567346597, 252: 0.877174685114754, 253: 0.9827975885337163, 254: 0.8487655946921452, 255: 0.9999999946284724, 256: 0.9470827086402938, 257: 0.911379985763836, 258: 0.8995869373453049, 259: 0.8675876214102881, 260: 0.8486130198814437, 261: 0.8989339865746998, 262: 0.8540505645149266, 263: 0.8806467915665619, 264: 0.6509488613159087, 265: 0.8914232800737124, 266: 0.9858548101483283, 267: 0.9163273834099379, 268: 0.9457140949354059, 269: 0.8755262374316405, 270: 0.9054529037990738, 271: 0.8979498004690099, 272: 0.9537829799980421, 273: 0.9922924615946034, 274: 0.9983034972574081, 275: 0.9609627433589556, 276: 0.9922641929226308, 277: 0.8585459007161751, 278: 0.983824280921671, 279: 0.9014547240385666, 280: 0.9561230757603278, 281: 0.9102731490569499, 282: 0.9996870923467187, 283: 0.9644901582424872, 284: 0.9999881939621771, 285: 0.9448019485442987, 286: 0.9223088840317156, 287: 0.8839170798643652, 288: 0.8708266323506824, 289: 0.9974344830536193, 290: 0.9204211939921381, 291: 0.8449601062780643, 292: 0.8829331201640415, 293: 0.8945108589471987, 294: 0.8449601062780642, 295: 0.8449601062780643, 296: 0.9398297975938891, 297: 0.8730804699270263, 298: 0.8449601062780643, 299: 0.8449601062780644, 300: 0.8449601062780644, 301: 0.9182195114199697, 302: 0.8945614975596796, 303: 0.8609434730893413, 304: 0.85884713318687, 305: 0.936049772991741, 306: 0.8449601062780642, 307: 0.8449601062780643, 308: 0.9926920084651392, 309: 0.8449601062780643, 310: 0.9049871757673511, 311: 0.8449601062780643, 312: 0.8869418121934478, 313: 0.9986838757822023, 314: 0.8937242804475521, 315: 0.9334771464646314, 316: 0.6235391779871516, 317: 0.6944656002841189, 318: 0.9529493113453168, 319: 0.8533260762098192, 320: 0.8935649777324743, 321: 0.8449601062780643, 322: 0.8449601062780642, 323: 0.8795617560495661, 324: 0.8449601062780643, 325: 0.8449601062780643, 326: 0.8449601062780643, 327: 0.8449601062780643, 328: 0.8449601062780643, 329: 0.8449601062780644, 330: 0.8449601062780642, 331: 0.8449601062780642, 332: 0.8449601062780643, 333: 0.8531237979937563, 334: 0.8449601062780643, 335: 0.8449601062780642, 336: 0.9991353890399095, 337: 0.9103257786067809, 338: 0.8449601062780643, 339: 0.8766082609822015, 340: 0.9997725452153517, 341: 0.8449601062780644, 342: 0.8660017849177288, 343: 0.8449601062780644, 344: 0.9770783012207584, 345: 0.8934141891787059, 346: 0.9156295145616457, 347: 0.8449601062780643, 348: 0.8449601062780643, 349: 0.8449601062780642, 350: 0.8449601062780643, 351: 0.8449601062780643, 352: 0.8607547708138142, 353: 0.8877464700365421, 354: 0.8449601062780642, 355: 0.8181379564698197, 356: 0.5348293361424394, 357: 0.8480978617647295, 358: 0.8449601062780643, 359: 0.8449601062780642, 360: 0.8449601062780643, 361: 0.9234025869239748, 362: 0.9658256783361492, 363: 0.9502858511100887, 364: 0.8341298822256124, 365: 0.880363535203567, 366: 0.6940154564304504, 367: 0.9970764553571004, 368: 0.9331629462957057, 369: 0.8542215182395191, 370: 0.5348293361424393, 371: 0.6361652685587015, 372: 0.8582048775506393, 373: 0.9951970756699601, 374: 0.7926588049478918, 375: 0.7060939511510802, 376: 0.900641646142806, 377: 0.5348293361424393, 378: 0.9643540310866123, 379: 0.5974910461353983, 380: 0.58655518656593, 381: 0.5666714503197183, 382: 0.7798873293398773, 383: 0.7274086483811384, 384: 0.7132534457243771, 385: 0.5893679933925191, 386: 0.5461252182561359, 387: 0.6577401036031035, 388: 0.5348293361424394, 389: 0.6122636183094488, 390: 0.6333820249480435, 391: 0.6907032969143136, 392: 0.66651816581576, 393: 0.9876609143474152, 394: 0.7833927601291758, 395: 0.665267486737482, 396: 0.5348293361424394, 397: 0.8401053944448702, 398: 0.611783622672221, 399: 0.7237080709320334, 400: 0.6180535901300842, 401: 0.7091407056793625, 402: 0.6757249091109092, 403: 0.5348293361424394, 404: 0.9805377321704323, 405: 0.8985282414899937, 406: 0.9788287051415305, 407: 0.8722766567701333, 408: 0.9560924099534364, 409: 0.9798430385561513, 410: 0.9746988320259619, 411: 0.9990822721779552, 412: 0.9909137519428104, 413: 0.5348293361424393, 414: 0.5972784312206226, 415: 0.5348293361424394, 416: 0.5348293361424394, 417: 0.6029003924768989, 418: 0.5348293361424393, 419: 0.5627121588309817, 420: 0.791854081551661, 421: 0.6447679227466413, 422: 0.5884296616147853, 423: 0.966657444609229, 424: 0.5348293361424394, 425: 0.9291309299378271, 426: 0.5348293361424394, 427: 0.5348293361424394, 428: 0.5348293361424394, 429: 0.5348293361424393, 430: 0.636714620152517, 431: 0.5348293361424393, 432: 0.5637935124165208, 433: 0.5348293361424393, 434: 0.5348293361424393, 435: 0.5348293361424393, 436: 0.5348293361424393, 437: 0.5348293361424394, 438: 0.5348293361424393, 439: 0.5348293361424394, 440: 0.6524002649702073, 441: 0.5348293361424393, 442: 0.5348293361424394, 443: 0.5348293361424394, 444: 0.5348293361424393, 445: 0.5348293361424394, 446: 0.5955752733114177, 447: 0.5709579043401589, 448: 0.6589491972811815, 449: 0.7765543316151351, 450: 0.6114323010304817, 451: 0.8675525106918307, 452: 0.8875850546254319, 453: 0.8897342956781791, 454: 0.9999303597092621, 455: 0.8499793897622608, 456: 0.8449601062780643, 457: 0.9375663868305713, 458: 0.9999669039734406, 459: 0.8527505998700656, 460: 0.5348293361424394, 461: 0.5905590466015282, 462: 0.5440816260270451, 463: 0.5348293361424393, 464: 0.5504057256236167, 465: 0.5967810239086752, 466: 0.568824637875814, 467: 0.7578822131802969, 468: 0.6668598576624453, 469: 0.7354496202658575, 470: 0.9312372355993596, 471: 0.9970569697906246, 472: 0.9882140069655774, 473: 0.5348293361424394, 474: 0.973847340818408, 475: 0.9504414532375796, 476: 0.9915084124867342, 477: 0.5348293361424394, 478: 0.5348293361424394, 479: 0.5348293361424393, 480: 0.5348293361424394, 481: 0.5348293361424393, 482: 0.5348293361424394, 483: 0.5348293361424393, 484: 0.5348293361424394, 485: 0.5348293361424393, 486: 0.5348293361424394, 487: 0.5348293361424393, 488: 0.5348293361424393, 489: 0.5348293361424393, 490: 0.5348293361424393, 491: 0.5348293361424394, 492: 0.5348293361424394, 493: 0.5348293361424394, 494: 0.5348293361424393, 495: 0.5348293361424394, 496: 0.5348293361424393, 497: 0.5348293361424393, 498: 0.5348293361424393, 499: 0.7061534948472922, 500: 0.5348293361424393, 501: 0.5348293361424394, 502: 0.5348293361424394, 503: 0.5348293361424394, 504: 0.5348293361424393, 505: 0.5348293361424394, 506: 0.5348293361424393, 507: 0.9524072913766297, 508: 0.5348293361424393, 509: 0.5348293361424394, 510: 0.5348293361424394, 511: 0.5348293361424394, 512: 0.5348293361424394, 513: 0.5348293361424393, 514: 0.8604773775322058, 515: 0.5348293361424394, 516: 0.5348293361424394, 517: 0.5348293361424393, 518: 0.5348293361424394, 519: 0.5348293361424394, 520: 0.5348293361424394, 521: 0.5348293361424394, 522: 0.5348293361424393, 523: 0.5348293361424393, 524: 0.5348293361424394, 525: 0.5348293361424394, 526: 0.5348293361424394, 527: 0.5348293361424393, 528: 0.5348293361424393, 529: 0.5348293361424393, 530: 0.7868498614396432, 531: 0.9328141410319785, 532: 0.8736911912333066, 533: 0.8449601062780643, 534: 0.847500459251851, 535: 0.9853153018873033, 536: 0.6645945497465183, 537: 0.8449601062780642, 538: 0.8624987214336192, 539: 0.9070370729557791, 540: 0.899255117303596, 541: 0.6757689944256633, 542: 0.5348293361424393, 543: 0.8676212758790289, 544: 0.6705892850779205, 545: 0.9699552159510922, 546: 0.9465816900693073, 547: 0.5348293361424393, 548: 0.6464018072043537, 549: 0.7583549088371103, 550: 0.8521371147568155, 551: 0.9323710532056888, 552: 0.8655153847295687, 553: 0.8445094052794656, 554: 0.5991420808080216, 555: 0.6813363022215674, 556: 0.5348293361424394, 557: 0.671856571824719, 558: 0.66860059687143, 559: 0.7822084112840858, 560: 0.6427104758081773, 561: 0.8457303301089392, 562: 0.8260420808035295, 563: 0.9813621061662969, 564: 0.5793416221438642, 565: 0.6678095662887882, 566: 0.8959672104430855, 567: 0.7500463784530165, 568: 0.8455444663049965, 569: 0.5348293361424394, 570: 0.7756698426809137, 571: 0.9738477740436123, 572: 0.5348293361424393, 573: 0.8040978304669645, 574: 0.7131353802428012, 575: 0.7761610574355373, 576: 0.8034280498965, 577: 0.8251790905983626, 578: 0.5348293361424393, 579: 0.5348293361424393, 580: 0.6332188328698067, 581: 0.5729342465563799, 582: 0.647115544483508, 583: 0.5348293361424394, 584: 0.7703738006227704, 585: 0.6852200076269161, 586: 0.5876357375404183, 587: 0.6712263409215014, 588: 0.5348293361424394, 589: 0.849270700846284, 590: 0.9260390473927249, 591: 0.5659921031605841, 592: 0.5348293361424394, 593: 0.5348293361424394, 594: 0.8449601062780644, 595: 0.9969236289018034, 596: 0.9162825004954407, 597: 0.5348293361424394, 598: 0.5348293361424394, 599: 0.5348293361424394, 600: 0.5348293361424394, 601: 0.5348293361424394, 602: 0.5348293361424394, 603: 0.5348293361424393, 604: 0.5348293361424393, 605: 0.5348293361424394, 606: 0.5348293361424393, 607: 0.5348293361424393, 608: 0.5348293361424394, 609: 0.5348293361424394, 610: 0.5348293361424394, 611: 0.5348293361424394, 612: 0.5348293361424394, 613: 0.5348293361424394, 614: 0.5348293361424394, 615: 0.5348293361424393, 616: 0.5348293361424394, 617: 0.5348293361424393, 618: 0.8449601062780643, 619: 0.9705342074106211, 620: 0.5348293361424393, 621: 0.5348293361424394, 622: 0.8366270985073779, 623: 0.5348293361424393, 624: 0.6325052111543648, 625: 0.5348293361424393, 626: 0.7788864668730316, 627: 0.9452165793009689, 628: 0.5348293361424393, 629: 0.5348293361424394, 630: 0.5348293361424393, 631: 0.5348293361424393, 632: 0.5348293361424394, 633: 0.5348293361424394, 634: 0.7087172748948675, 635: 0.6271632581086942, 636: 0.5348293361424394, 637: 0.5348293361424393, 638: 0.5348293361424394, 639: 0.5348293361424393, 640: 0.5348293361424394, 641: 0.5348293361424394, 642: 0.5348293361424394, 643: 0.5348293361424394, 644: 0.5348293361424394, 645: 0.5348293361424393, 646: 0.5348293361424394, 647: 0.5348293361424394, 648: 0.5348293361424394, 649: 0.5348293361424394, 650: 0.6361139128444419, 651: 0.7024197650163376, 652: 0.5348293361424394, 653: 0.5348293361424394, 654: 0.5871469721133067, 655: 0.5348293361424394, 656: 0.5348293361424393, 657: 0.7955748982406352, 658: 0.5348293361424393, 659: 0.5367033449477497, 660: 0.5348293361424393, 661: 0.5348293361424393, 662: 0.5348293361424394, 663: 0.5348293361424393, 664: 0.7381646609829464, 665: 0.5348293361424394, 666: 0.5348293361424394, 667: 0.5348293361424394, 668: 0.9999757298551666, 669: 0.5348293361424393, 670: 0.5348293361424393, 671: 0.9225182469443882, 672: 0.5348293361424394, 673: 0.5348293361424393, 674: 0.5348293361424394, 675: 0.9387644862613639, 676: 0.5348293361424393, 677: 0.8449601062780644, 678: 0.5418561618380964, 679: 0.9096086636741663, 680: 0.8449601062780642, 681: 0.8449601062780644, 682: 0.9128382833625809, 683: 0.7288911364725672, 684: 0.9302704621455894, 685: 0.8435246378573011, 686: 0.8449601062780643, 687: 0.8449601062780643, 688: 0.8449601062780643, 689: 0.8449601062780643, 690: 0.8449601062780644, 691: 0.682864883545282, 692: 0.7340787536164102, 693: 0.5438472186156389, 694: 0.6214677885318061, 695: 0.9108738085170894, 696: 0.738422581901464, 697: 0.9214372413126493, 698: 0.5776707063564072, 699: 0.5348293361424394, 700: 0.5348293361424394, 701: 0.5348293361424393, 702: 0.5348293361424394, 703: 0.5348293361424394, 704: 0.5348293361424393, 705: 0.8399719866817655, 706: 0.5348293361424393, 707: 0.5348293361424394, 708: 0.5433450094888955, 709: 0.7271324357417116, 710: 0.5348293361424394, 711: 0.5348293361424394, 712: 0.9965377938952195, 713: 0.5348293361424394, 714: 0.5766108834786265, 715: 0.784075514715252, 716: 0.8449601062780643, 717: 0.997920297727651, 718: 0.6984945166931325, 719: 0.7937553466049697, 720: 0.891613653318144, 721: 0.9241469332654466, 722: 0.7649726809198093, 723: 0.7415219186853783, 724: 0.862455054052121, 725: 0.6291529751360567, 726: 0.6646384903077394, 727: 0.858355669596114, 728: 0.6585067966403485, 729: 0.5552937930032632, 730: 0.8623393470542955, 731: 0.5963752688692397, 732: 0.5348293361424394, 733: 0.8405129261806281, 734: 0.6055485758845071, 735: 0.5348293361424394, 736: 0.5348293361424393, 737: 0.835976370403357, 738: 0.7277281683748391, 739: 0.957560238888133, 740: 0.9289678535398848, 741: 0.9221140939281816, 742: 0.9817617185157167, 743: 0.9148183228584666, 744: 0.5348293361424393, 745: 0.7646045126544042, 746: 0.6670063779015233, 747: 0.8449601062780644, 748: 0.886902553873639, 749: 0.8549336850985706, 750: 0.9148822955351451, 751: 0.8449601062780643, 752: 0.6858859051097577, 753: 0.8449601062780643, 754: 0.7454504602085287, 755: 0.9478690668286944, 756: 0.7010410571753757, 757: 0.9932173547409301, 758: 0.9649685136395553, 759: 0.912826531577646, 760: 0.9625167455722057, 761: 0.9571799403961335, 762: 0.9375313603099763, 763: 0.962083330763924, 764: 0.9307377211275487, 765: 0.9434619939169729, 766: 0.8415842042836189, 767: 0.7557818566636189, 768: 0.9951666788301124, 769: 0.6021649443008122, 770: 0.9205069880006248, 771: 0.7718738753470632, 772: 0.9864624508402516, 773: 0.8831328580017952, 774: 0.8879005558612174, 775: 0.6032199022759134, 776: 0.5348293361424393, 777: 0.6424608203110521, 778: 0.9966455281019627, 779: 0.8796260012509859, 780: 0.8811595144173817, 781: 0.5348293361424393, 782: 0.9285932580733546, 783: 0.5348293361424393, 784: 0.8069066473008032, 785: 0.5559498871309241, 786: 0.7077263219991881, 787: 0.5348293361424394, 788: 0.77620848831694, 789: 0.8921051005208871, 790: 0.9075914308245318, 791: 0.5348293361424394, 792: 0.6879338192187671, 793: 0.8093077858960959, 794: 0.9414639781562965, 795: 0.7396510007476487, 796: 0.8034361898472988, 797: 0.8987474851059147, 798: 0.5348293361424394, 799: 0.9812800590207721, 800: 0.909629690584872, 801: 0.9003672037020928, 802: 0.9699153824469666, 803: 0.8330601903688258, 804: 0.5348293361424394, 805: 0.80790575857972, 806: 0.9245926305059988, 807: 0.9691090474702371, 808: 0.8727139107038416, 809: 0.7497248819088064, 810: 0.5348293361424393, 811: 0.7514193081659883, 812: 0.9655446856175568, 813: 0.6989711602869462, 814: 0.8533560720491186, 815: 0.9805542536513736, 816: 0.9881639829614689, 817: 0.9831512398994766, 818: 0.8449601062780643, 819: 0.9850168656161411, 820: 0.9892495840663619, 821: 0.5348293361424394, 822: 0.9846846036863288, 823: 0.9984164303983871, 824: 0.9529735207593893, 825: 0.999996696362232, 826: 0.8449601062780644, 827: 0.9717533489047664, 828: 0.8449601062780643, 829: 0.698971160286946, 830: 0.9807640432871731, 831: 0.9811208543459451, 832: 0.8926296232720641, 833: 0.9776423662666242, 834: 0.5348293361424394, 835: 0.5348293361424394, 836: 0.5348293361424394, 837: 0.8323432995860471, 838: 0.9992995670393439, 839: 0.9540439363497067, 840: 0.9227005153656496, 841: 0.5348293361424393, 842: 0.5348293361424394, 843: 0.985250908679698, 844: 0.9842598935618044, 845: 0.8502213652158999, 846: 0.9736001871475186, 847: 0.5348293361424393, 848: 0.8442575618239753, 849: 0.5348293361424393, 850: 0.5348293361424394, 851: 0.698971160286946, 852: 0.9720199722777819, 853: 0.9703710432649142, 854: 0.5348293361424393, 855: 0.5348293361424394, 856: 0.6989711602869458, 857: 0.6514031869659944, 858: 0.9966684373716802, 859: 0.8925722596723256, 860: 0.5348293361424394, 861: 0.8432301054243353, 862: 0.5348293361424394, 863: 0.8576093967446661, 864: 0.7104657445261635, 865: 0.9198697101592697, 866: 0.8026390297854537, 867: 0.5348293361424394, 868: 0.9976937084532411, 869: 0.8449601062780643, 870: 0.8892692374916208, 871: 0.8449601062780643, 872: 0.8449601062780643, 873: 0.8449601062780643, 874: 0.8449601062780643, 875: 0.8449601062780643, 876: 0.8449601062780644, 877: 0.9433962240827608, 878: 0.8449601062780643, 879: 0.8449601062780643, 880: 0.8449601062780643, 881: 0.8739072140974179, 882: 0.8449601062780643, 883: 0.9219766909655346, 884: 0.8449601062780643, 885: 0.8449601062780643, 886: 0.8449601062780642, 887: 0.8449601062780643, 888: 0.9995632734451046, 889: 0.9683986880849808, 890: 0.8449601062780644, 891: 0.8596132460708951, 892: 0.8449601062780643, 893: 0.8449601062780643, 894: 0.8449601062780643, 895: 0.9944596537172224, 896: 0.8683950834422179, 897: 0.8449601062780642, 898: 0.9930189272672125, 899: 0.9990762090963984, 900: 0.9041827006242349, 901: 0.9041313273071246, 902: 0.895879445945163, 903: 0.9848747742463305, 904: 0.8449601062780643, 905: 0.8796647603760386, 906: 0.9880721054186142, 907: 0.8449601062780644, 908: 0.8527738627556246, 909: 0.998314588744068, 910: 0.9968163868117341, 911: 0.9202734816410985, 912: 0.951475856391271, 913: 0.9814211122612182, 914: 0.9982015189773381, 915: 0.979744072562658, 916: 0.9734276338701772, 917: 0.9589956989545216, 918: 0.9785336207913526, 919: 0.9839439288198607, 920: 0.5348293361424394, 921: 0.9993375429020385, 922: 0.5348293361424394, 923: 0.9038042104924081, 924: 0.9420977775211894, 925: 0.9040052049378395, 926: 0.859219247192214, 927: 0.9679436924239846, 928: 0.9814569214092875, 929: 0.9317429900648184, 930: 0.9856547431187793, 931: 0.8882095233329549, 932: 0.8859616585337833, 933: 0.8958423680442981, 934: 0.8449601062780642, 935: 0.9007017724705859, 936: 0.8449601062780644, 937: 0.8449601062780642, 938: 0.8509118883753938, 939: 0.940394895906795, 940: 0.8166048905852555, 941: 0.5653544538280076, 942: 0.8386557036866157, 943: 0.7187516523542046, 944: 0.5348293361424394, 945: 0.763571647390162, 946: 0.5486482672730741, 947: 0.8449601062780644, 948: 0.7472522354331349, 949: 0.9840374038525174, 950: 0.5348293361424394, 951: 0.9990593449767724, 952: 0.5677981857664258, 953: 0.5348293361424394, 954: 0.7380140519544425, 955: 0.5354205867032746, 956: 0.5348293361424393, 957: 0.5348293361424394, 958: 0.7260937133102942, 959: 0.6845459937269566, 960: 0.5348293361424394, 961: 0.5348293361424394, 962: 0.6859469953206219, 963: 0.5348293361424394, 964: 0.5348293361424394, 965: 0.653137039975068, 966: 0.5348293361424393, 967: 0.5348293361424394, 968: 0.543242837227771, 969: 0.5348293361424394, 970: 0.5348293361424394, 971: 0.5348293361424394, 972: 0.5348293361424394, 973: 0.9041152117483999, 974: 0.8449601062780644, 975: 0.8523123502293655, 976: 0.9231322868010502, 977: 0.8449601062780643, 978: 0.8449601062780643, 979: 0.991779483144915, 980: 0.8883288885428252, 981: 0.9204913895365673, 982: 0.8449601062780643, 983: 0.8449601062780643, 984: 0.8449601062780643, 985: 0.8449601062780644, 986: 0.8449601062780643, 987: 0.8449601062780644, 988: 0.8449601062780643, 989: 0.8449601062780644, 990: 0.8449601062780644, 991: 0.8886881928362713, 992: 0.9621000716385045, 993: 0.8449601062780643, 994: 0.850992055620097, 995: 0.7722100870964547, 996: 0.6192534409460704, 997: 0.6960503022435404, 998: 0.8083206300770148, 999: 0.9513558590005279, 1000: 0.9185445134354024, 1001: 0.8974717680972251, 1002: 0.5348293361424393, 1003: 0.5348293361424393, 1004: 0.6726546686564471, 1005: 0.5348293361424394, 1006: 0.9707413841082624, 1007: 0.9815295237725523, 1008: 0.9625992666456653, 1009: 0.9998841658880523, 1010: 0.9283221114534134, 1011: 0.9040931854914968, 1012: 0.8449601062780642, 1013: 0.9221695848062882, 1014: 0.9928727380519192, 1015: 0.9043065574480955, 1016: 0.9619573964635885, 1017: 0.5348293361424394, 1018: 0.8400093807281235, 1019: 0.5348293361424393, 1020: 0.5348293361424394, 1021: 0.9655920031217926, 1022: 0.8449601062780643, 1023: 0.9176385808331957, 1024: 0.8449601062780642, 1025: 0.8449601062780644, 1026: 0.7045241747408836, 1027: 0.9622934425135162, 1028: 0.899865291337205, 1029: 0.6236352544003909, 1030: 0.6267996087254225, 1031: 0.9602117987031479, 1032: 0.9678416675912659, 1033: 0.8958654745516716, 1034: 0.8589545333553196, 1035: 0.6982928898220232, 1036: 0.7847965300052575, 1037: 0.8449601062780643, 1038: 0.6557712236199803, 1039: 0.849746224418979, 1040: 0.775508948694199, 1041: 0.9590141610993312, 1042: 0.9929023398905475, 1043: 0.6647181256841762, 1044: 0.5348293361424393, 1045: 0.8648552046121533, 1046: 0.9012581450509789, 1047: 0.9611247832696191, 1048: 0.8996586551903016, 1049: 0.5348293361424393, 1050: 0.8449601062780644, 1051: 0.9735683937250729, 1052: 0.98505488311904, 1053: 0.8784458531477267, 1054: 0.8406689786132331, 1055: 0.7210813399374859, 1056: 0.954542502259407, 1057: 0.9946089803775804, 1058: 0.8675044041752735, 1059: 0.9952328734065338, 1060: 0.8455996201195549, 1061: 0.8449601062780643, 1062: 0.5849871478782532, 1063: 0.5348293361424394, 1064: 0.5348293361424393, 1065: 0.5348293361424393, 1066: 0.8685158524980728, 1067: 0.9275298628675985, 1068: 0.5371016656094304, 1069: 0.5348293361424393, 1070: 0.8214660515870827, 1071: 0.70543604552657, 1072: 0.9551599857359365, 1073: 0.7928926605004595, 1074: 0.5348293361424394, 1075: 0.7390840968164323, 1076: 0.9814592021012487, 1077: 0.583955896352668, 1078: 0.9445332187519986, 1079: 0.8449601062780643, 1080: 0.8632496181844326, 1081: 0.8449601062780643, 1082: 0.9996320715846441, 1083: 0.9930277383997397, 1084: 0.937609271758364, 1085: 0.8907418225998457, 1086: 0.8938113283545253, 1087: 0.9160199134884167, 1088: 0.9093130666925194, 1089: 0.9698895307926686, 1090: 0.7032295187275189, 1091: 0.9659474363844051, 1092: 0.9249669934283966, 1093: 0.8449601062780643, 1094: 0.8449601062780643, 1095: 0.8449601062780642, 1096: 0.9994421930481213, 1097: 0.6533623506881362, 1098: 0.5348293361424393, 1099: 0.6204225983405528, 1100: 0.5487396499636181, 1101: 0.9413207064958802, 1102: 0.5348293361424394, 1103: 0.5348293361424394, 1104: 0.8449601062780644, 1105: 0.9851635604188669, 1106: 0.5348293361424393, 1107: 0.6666262800986086, 1108: 0.7161871709024342, 1109: 0.5348293361424393, 1110: 0.6914907506770865, 1111: 0.5348293361424394, 1112: 0.5348293361424393, 1113: 0.9488109778476391, 1114: 0.9327566258117177, 1115: 0.5348293361424394, 1116: 0.9471259127524179, 1117: 0.5348293361424393, 1118: 0.7989126739578314, 1119: 0.9988311675093852, 1120: 0.5348293361424393, 1121: 0.5348293361424394, 1122: 0.5348293361424393, 1123: 0.5348293361424393, 1124: 0.5348293361424394, 1125: 0.5348293361424394, 1126: 0.8449601062780642, 1127: 0.8877903704141906, 1128: 0.9612927309386572, 1129: 0.8770358288700965, 1130: 0.7222327348539149, 1131: 0.8562351074361664, 1132: 0.5348293361424393, 1133: 0.9952169309329536, 1134: 0.6678025960377776, 1135: 0.9388520738561278, 1136: 0.8977887780249941, 1137: 0.9157293807680913, 1138: 0.909000810014778, 1139: 0.5675965523323537, 1140: 0.7065192753038583, 1141: 0.9120399113173662, 1142: 0.8953955348571763, 1143: 0.8449601062780644, 1144: 0.9854468811429087, 1145: 0.5348293361424393, 1146: 0.5703215209880386, 1147: 0.5348293361424393, 1148: 0.5348293361424394, 1149: 0.8449601062780643, 1150: 0.9012416159708517, 1151: 0.8449601062780644, 1152: 0.6583400659909442, 1153: 0.5348293361424394, 1154: 0.9355341710528818, 1155: 0.990326479403214, 1156: 0.990399964290892, 1157: 0.5348293361424394, 1158: 0.5348293361424393, 1159: 0.9825916578113476, 1160: 0.979327743326884, 1161: 0.9507086657432579, 1162: 0.8791287994817103, 1163: 0.8449601062780643, 1164: 0.8449601062780643, 1165: 0.8386571227190366, 1166: 0.9123339141363687, 1167: 0.5876280550420174, 1168: 0.8257774840042541, 1169: 0.6202918547389416, 1170: 0.8827355162674856, 1171: 0.5348293361424394, 1172: 0.9504089339996528, 1173: 0.7832281159429296, 1174: 0.8449601062780644, 1175: 0.9352799251469119, 1176: 0.7933760401470359, 1177: 0.849569988271744, 1178: 0.7865156553451366, 1179: 0.900561776268596, 1180: 0.9559839021843739, 1181: 0.71244837222156, 1182: 0.5788675992442773, 1183: 0.7764272127704336, 1184: 0.8132997576319896, 1185: 0.5348293361424394, 1186: 0.9959048755384793, 1187: 0.8347305912795556, 1188: 0.9981356248946596, 1189: 0.8449601062780642, 1190: 0.8449601062780642, 1191: 0.5348293361424394, 1192: 0.548841877724977, 1193: 0.6500506078031885, 1194: 0.7344184377167392, 1195: 0.6976904749247751, 1196: 0.917819520897626, 1197: 0.5508576027209063, 1198: 0.9461413263617525, 1199: 0.5348293361424394, 1200: 0.5348293361424393, 1201: 0.9406860248048148, 1202: 0.5348293361424394, 1203: 0.5348293361424393, 1204: 0.5348293361424393, 1205: 0.5348293361424393, 1206: 0.8692480535781155, 1207: 0.9293451133363281, 1208: 0.6714809206721285, 1209: 0.987317769241524, 1210: 0.5348293361424393, 1211: 0.9472762167702715, 1212: 0.9946209171655682, 1213: 0.8605604156472493, 1214: 0.9801715472502814, 1215: 0.8713469763440377, 1216: 0.9383354428205594, 1217: 0.8704283087886432, 1218: 0.7136120582924406, 1219: 0.9194688817045932, 1220: 0.8288474160165036, 1221: 0.7762884600212919, 1222: 0.8020129916491072, 1223: 0.838573873440535, 1224: 0.9278204749211969, 1225: 0.9114116664103659, 1226: 0.5348293361424393, 1227: 0.8468824238208874, 1228: 0.9349152695025086, 1229: 0.5504713147532773, 1230: 0.8655278584305712, 1231: 0.7124279520572548, 1232: 0.8449601062780642, 1233: 0.8449601062780643, 1234: 0.8449601062780643, 1235: 0.8449601062780643, 1236: 0.8449601062780643, 1237: 0.8449601062780642, 1238: 0.9423440033976974, 1239: 0.8165702588137536, 1240: 0.8449601062780643, 1241: 0.8467530464070292, 1242: 0.8449601062780643, 1243: 0.9226371227382131, 1244: 0.9532882166260804, 1245: 0.9629462195493863, 1246: 0.8208240261783897, 1247: 0.8043693441498835, 1248: 0.733813569308892, 1249: 0.9355202790092371, 1250: 0.8449601062780643, 1251: 0.8104957655604539, 1252: 0.8891719538540621, 1253: 0.8449601062780643, 1254: 0.8449601062780644, 1255: 0.8697037637638968, 1256: 0.9937944288082547, 1257: 0.8449601062780643, 1258: 0.8449601062780644, 1259: 0.9712017929968123, 1260: 0.9606465505486449, 1261: 0.987428123459789, 1262: 0.6640846723789636, 1263: 0.9942588217184833, 1264: 0.8449601062780644, 1265: 0.5348293361424394, 1266: 0.7197359631087032, 1267: 0.6658668907299481, 1268: 0.5348293361424393, 1269: 0.9999704606476811, 1270: 0.5348293361424394, 1271: 0.8449601062780643, 1272: 0.9968688062506454, 1273: 0.7859230998521568, 1274: 0.8987968995779058, 1275: 0.8449601062780643, 1276: 0.8449601062780644, 1277: 0.8449601062780643, 1278: 0.8634442646531469, 1279: 0.8449601062780642, 1280: 0.8961715814194451, 1281: 0.9286531934285506, 1282: 0.8766412794438556, 1283: 0.8449601062780643, 1284: 0.6923501774818821, 1285: 0.5348293361424394, 1286: 0.8449601062780643, 1287: 0.999495958224057, 1288: 0.8449601062780643, 1289: 0.5348293361424393, 1290: 0.9310428060405529, 1291: 0.8449601062780644, 1292: 0.8449601062780643, 1293: 0.8449601062780644, 1294: 0.8449601062780643, 1295: 0.8449601062780643, 1296: 0.5348293361424394, 1297: 0.5348293361424394, 1298: 0.5348293361424393, 1299: 0.9435672210586789, 1300: 0.8051306066877472, 1301: 0.8449601062780643, 1302: 0.8653183841879596, 1303: 0.777903326025459, 1304: 0.6803454996473052, 1305: 0.5348293361424394, 1306: 0.5348293361424394, 1307: 0.5348293361424393, 1308: 0.5348293361424394, 1309: 0.5348293361424394, 1310: 0.853064530878897, 1311: 0.9230347186099845, 1312: 0.8449601062780642, 1313: 0.9494487780696749, 1314: 0.8449601062780644, 1315: 0.9590798867943353, 1316: 0.8282782284972355, 1317: 0.9317992242596984, 1318: 0.961366390671294, 1319: 0.8449601062780642, 1320: 0.9990790411512179, 1321: 0.8687767321975767, 1322: 0.8449601062780643, 1323: 0.9737089468809901, 1324: 0.8449601062780642, 1325: 0.8449601062780643, 1326: 0.8449601062780643, 1327: 0.9608188597662664, 1328: 0.8449601062780642, 1329: 0.5853918491239057, 1330: 0.9966246220710316, 1331: 0.5348293361424394, 1332: 0.8216975661668784, 1333: 0.9648562168346821, 1334: 0.9223989408946281, 1335: 0.955498178821168, 1336: 0.9942775698710935, 1337: 0.8505894315432678, 1338: 0.8449601062780642, 1339: 0.8449601062780642, 1340: 0.8449601062780642, 1341: 0.8449601062780643, 1342: 0.8449601062780642, 1343: 0.8449601062780643, 1344: 0.8449601062780643, 1345: 0.5855822626420575, 1346: 0.8449601062780643, 1347: 0.8449601062780642, 1348: 0.8449601062780642, 1349: 0.875759831348391, 1350: 0.990397238001152, 1351: 0.8449601062780642, 1352: 0.5348293361424394, 1353: 0.8449601062780643, 1354: 0.9206023844074329, 1355: 0.9111968799376988, 1356: 0.8449601062780643, 1357: 0.9166278464104853, 1358: 0.9648562168346821, 1359: 0.6873971812835843, 1360: 0.559730675610726, 1361: 0.8449601062780643, 1362: 0.8449601062780642, 1363: 0.8449601062780642, 1364: 0.8449601062780644, 1365: 0.8449601062780642, 1366: 0.9133735961626929, 1367: 0.8507348621676766, 1368: 0.8766805788977076, 1369: 0.8449601062780643, 1370: 0.9245338854721421, 1371: 0.9784189251130618, 1372: 0.8449601062780642, 1373: 0.8449601062780643, 1374: 0.8449601062780644, 1375: 0.9599835666787292, 1376: 0.8449601062780643, 1377: 0.8919713151802674, 1378: 0.8449601062780643, 1379: 0.8449601062780643, 1380: 0.8449601062780644, 1381: 0.8449601062780643, 1382: 0.8449601062780643, 1383: 0.8449601062780643, 1384: 0.8449601062780643, 1385: 0.8449601062780643, 1386: 0.8966619175129489, 1387: 0.8449601062780643, 1388: 0.8449601062780643, 1389: 0.8449601062780643, 1390: 0.8449601062780643, 1391: 0.8449601062780643, 1392: 0.8653691010823745, 1393: 0.8449601062780644, 1394: 0.8449601062780643, 1395: 0.5348293361424394, 1396: 0.5348293361424394, 1397: 0.6341449028387276, 1398: 0.8449601062780644, 1399: 0.7808930645416176, 1400: 0.5435389166517739, 1401: 0.5348293361424394, 1402: 0.9971461209769521, 1403: 0.5655029452233803, 1404: 0.8449601062780644, 1405: 0.9345351214317136, 1406: 0.9780836466693427, 1407: 0.5348293361424393, 1408: 0.7449999050013849, 1409: 0.8817838378984103, 1410: 0.5348293361424394, 1411: 0.5348293361424394, 1412: 0.906937593592279, 1413: 0.8449601062780643, 1414: 0.9848912374722316, 1415: 0.9887364489597885, 1416: 0.8449601062780643, 1417: 0.9106570601346816, 1418: 0.7925640466642819, 1419: 0.9403600960392194, 1420: 0.5348293361424394, 1421: 0.5348293361424393, 1422: 0.9137397044357093, 1423: 0.9684858474462347, 1424: 0.7200190659155278, 1425: 0.9997828101337142, 1426: 0.5348293361424393, 1427: 0.7645363971296997, 1428: 0.9458161212036353, 1429: 0.8449601062780644, 1430: 0.8449601062780643, 1431: 0.7909306638028067, 1432: 0.8449601062780643, 1433: 0.8449601062780644, 1434: 0.7888863432412799, 1435: 0.9799082447781787, 1436: 0.8735942068570528, 1437: 0.7226673452310758, 1438: 0.8515470091469491, 1439: 0.9999908580779233, 1440: 0.9692635931715073, 1441: 0.9781468909956671, 1442: 0.8640012759869009, 1443: 0.5348293361424394, 1444: 0.5348293361424394, 1445: 0.8752966143993003, 1446: 0.5348293361424393, 1447: 0.5873833257033809, 1448: 0.5348293361424394, 1449: 0.5348293361424394, 1450: 0.5348293361424393, 1451: 0.5348293361424394, 1452: 0.5348293361424394, 1453: 0.5348293361424394, 1454: 0.5348293361424394, 1455: 0.5348293361424394, 1456: 0.5348293361424393, 1457: 0.5348293361424394, 1458: 0.5348293361424394, 1459: 0.5348293361424393, 1460: 0.5348293361424394, 1461: 0.9479437774942578, 1462: 0.5399761003616055, 1463: 0.5348293361424394, 1464: 0.7649126958453931, 1465: 0.7915417422126384, 1466: 0.6464132645369782, 1467: 0.9996094194941415, 1468: 0.9326532970113257, 1469: 0.5969236807807187, 1470: 0.984398190760587, 1471: 0.9960100112531246, 1472: 0.5348293361424394, 1473: 0.5348293361424393, 1474: 0.5348293361424393, 1475: 0.7246704258698156, 1476: 0.8449601062780643, 1477: 0.7956987994407054, 1478: 0.5348293361424393, 1479: 0.5348293361424394, 1480: 0.9615932063838916, 1481: 0.9971131551302512, 1482: 0.9674157566623631, 1483: 0.6153999495011345, 1484: 0.7789187000955032, 1485: 0.8230463404964276, 1486: 0.5348293361424394, 1487: 0.5348293361424393, 1488: 0.7386394657689223, 1489: 0.7424489145265354, 1490: 0.884387634594235, 1491: 0.8230463404964276, 1492: 0.8230463404964276, 1493: 0.8230463404964276, 1494: 0.8540352365504205, 1495: 0.9728548949397663, 1496: 0.5348293361424394, 1497: 0.8230463404964276, 1498: 0.5348293361424393, 1499: 0.7914000815399522, 1500: 0.9024513328489916, 1501: 0.9982149722797758, 1502: 0.9299527884137425, 1503: 0.9952804076055984, 1504: 0.9808081894312094, 1505: 0.5348293361424393, 1506: 0.5408279513183976, 1507: 0.9318739668642984, 1508: 0.7031941864073735, 1509: 0.9833545525209457, 1510: 0.9853864581656153, 1511: 0.5348293361424394, 1512: 0.9230821946695233, 1513: 0.8449601062780644, 1514: 0.5348293361424394, 1515: 0.9272105885610189, 1516: 0.999932051427144, 1517: 0.7493205923638787, 1518: 0.9953710547528286, 1519: 0.8449601062780643, 1520: 0.9151464408451765, 1521: 0.7463660840617458, 1522: 0.5348293361424393, 1523: 0.5348293361424393, 1524: 0.9885339523917784, 1525: 0.5348293361424394, 1526: 0.8449601062780643, 1527: 0.8449601062780644, 1528: 0.5348293361424394, 1529: 0.5348293361424394, 1530: 0.8697617489164302, 1531: 0.8816698871629168, 1532: 0.5348293361424394, 1533: 0.8449601062780643, 1534: 0.5348293361424394, 1535: 0.5348293361424394, 1536: 0.8512941151947522, 1537: 0.9990196553490953, 1538: 0.9348216010219915, 1539: 0.8208970441871503, 1540: 0.5348293361424393, 1541: 0.5348293361424394, 1542: 0.9350209330488581, 1543: 0.8335905731113479, 1544: 0.5348293361424393, 1545: 0.5348293361424394, 1546: 0.5348293361424393, 1547: 0.5348293361424394, 1548: 0.6778085179870817, 1549: 0.5348293361424394, 1550: 0.5348293361424393, 1551: 0.6318433253953523, 1552: 0.6385277729986537, 1553: 0.5348293361424394, 1554: 0.5348293361424394, 1555: 0.5348293361424393, 1556: 0.5348293361424394, 1557: 0.5348293361424393, 1558: 0.5348293361424394, 1559: 0.9998079038994495, 1560: 0.5348293361424394, 1561: 0.5348293361424394, 1562: 0.5348293361424394, 1563: 0.5348293361424394, 1564: 0.5348293361424394, 1565: 0.5348293361424394, 1566: 0.5348293361424394, 1567: 0.5348293361424394, 1568: 0.5348293361424394, 1569: 0.5348293361424394, 1570: 0.5348293361424394, 1571: 0.5348293361424394, 1572: 0.5348293361424394, 1573: 0.5348293361424394, 1574: 0.5348293361424394, 1575: 0.5348293361424394, 1576: 0.5348293361424394, 1577: 0.7883201290341666, 1578: 0.5348293361424394, 1579: 0.5348293361424394, 1580: 0.5348293361424394, 1581: 0.5348293361424394, 1582: 0.5348293361424394, 1583: 0.5348293361424394, 1584: 0.8471050527667562, 1585: 0.5348293361424394, 1586: 0.5348293361424394, 1587: 0.8449601062780644, 1588: 0.9105887372769244, 1589: 0.8449601062780644, 1590: 0.9125189721711294, 1591: 0.88442835907282, 1592: 0.5348293361424394, 1593: 0.9629161967522234, 1594: 0.872400059279999, 1595: 0.872400059279999, 1596: 0.8274567800569597, 1597: 0.8449601062780643, 1598: 0.5348293361424393, 1599: 0.9541037204926079, 1600: 0.8449601062780643, 1601: 0.905528337298092, 1602: 0.5348293361424394, 1603: 0.5348293361424393, 1604: 0.9257206210762222, 1605: 0.8449601062780644, 1606: 0.8843851622890871, 1607: 0.9851004420842002, 1608: 0.8449601062780643, 1609: 0.8449601062780643, 1610: 0.8449601062780643, 1611: 0.8449601062780643, 1612: 0.8449601062780644, 1613: 0.5348293361424394, 1614: 0.9192383257267577, 1615: 0.8787621137810722, 1616: 0.8449601062780643, 1617: 0.5348293361424393, 1618: 0.5348293361424394, 1619: 0.8449601062780644, 1620: 0.9784196929984276, 1621: 0.5477437004028679, 1622: 0.9788640513759216, 1623: 0.8449601062780643, 1624: 0.8449601062780643, 1625: 0.5492356835770847, 1626: 0.5348293361424393, 1627: 0.7194032153666601, 1628: 0.8676538793535854, 1629: 0.9868393061997138, 1630: 0.7015558951852687, 1631: 0.9868393061997138, 1632: 0.9868393061997138, 1633: 0.9868393061997139, 1634: 0.9868393061997138, 1635: 0.9868393061997139, 1636: 0.9868393061997138, 1637: 0.9868393061997138, 1638: 0.5348293361424393, 1639: 0.9868393061997138, 1640: 0.9868393061997138, 1641: 0.8189900545165146, 1642: 0.9309388187095743, 1643: 0.8449601062780643, 1644: 0.9868393061997139, 1645: 0.9781852901283059, 1646: 0.9868393061997138, 1647: 0.9868393061997139, 1648: 0.9868393061997138, 1649: 0.9868393061997139, 1650: 0.9868393061997139, 1651: 0.8449601062780643, 1652: 0.8449601062780642, 1653: 0.8449601062780643, 1654: 0.9999900720403069, 1655: 0.7650746756219707, 1656: 0.8437504897260935, 1657: 0.8449601062780642, 1658: 0.5348293361424393, 1659: 0.5348293361424393, 1660: 0.6917217100576308, 1661: 0.8449601062780644, 1662: 0.8449601062780643, 1663: 0.9167180076913007, 1664: 0.8449601062780643, 1665: 0.8449601062780643, 1666: 0.8449601062780644, 1667: 0.8449601062780644, 1668: 0.8449601062780643, 1669: 0.8449601062780644, 1670: 0.8449601062780644, 1671: 0.848205761876003, 1672: 0.5348293361424394, 1673: 0.5348293361424394, 1674: 0.8449601062780643, 1675: 0.8449601062780643, 1676: 0.9052548432950261, 1677: 0.8449601062780643, 1678: 0.8449601062780644, 1679: 0.8449601062780643, 1680: 0.5375804337722974, 1681: 0.5348293361424394}\n"
          ]
        }
      ]
    },
    {
      "cell_type": "code",
      "source": [
        "sorted_values = sorted(similarity_dict.values(), reverse=True)\n",
        "sorted_dict = {}\n",
        "\n",
        "for i in sorted_values:\n",
        "  for k in similarity_dict.keys():\n",
        "    if similarity_dict[k] == i:\n",
        "      sorted_dict[k] = similarity_dict[k]\n",
        "      break\n",
        "\n",
        "print(sorted_dict)\n",
        "\n",
        "# dict1 = {1: 1, 2: 9, 3: 4}\n",
        "# sorted_values = sorted(dict1.values()) # Sort the values\n",
        "# sorted_dict = {}\n",
        "\n",
        "# for i in sorted_values:\n",
        "#     for k in dict1.keys():\n",
        "#         if dict1[k] == i:\n",
        "#             sorted_dict[k] = dict1[k]\n",
        "#             break\n",
        "\n",
        "# print(sorted_dict)"
      ],
      "metadata": {
        "colab": {
          "base_uri": "https://localhost:8080/"
        },
        "id": "T2LiM5gmdWU2",
        "outputId": "7c89f3f0-b90a-492e-cd62-0318f1b4b92e"
      },
      "execution_count": 39,
      "outputs": [
        {
          "output_type": "stream",
          "name": "stdout",
          "text": [
            "{255: 0.9999999946284724, 825: 0.999996696362232, 234: 0.999994127494346, 1439: 0.9999908580779233, 1654: 0.9999900720403069, 284: 0.9999881939621771, 668: 0.9999757298551666, 8: 0.9999746859409137, 1269: 0.9999704606476811, 458: 0.9999669039734406, 99: 0.9999514285064423, 104: 0.9999497251426883, 1516: 0.999932051427144, 454: 0.9999303597092621, 123: 0.9998858901457763, 1009: 0.9998841658880523, 1559: 0.9998079038994495, 1425: 0.9997828101337142, 340: 0.9997725452153517, 282: 0.9996870923467187, 1082: 0.9996320715846441, 1467: 0.9996094194941415, 23: 0.9995945944769513, 888: 0.9995632734451046, 221: 0.999554220358024, 148: 0.9994968872749529, 1287: 0.999495958224057, 1096: 0.9994421930481213, 921: 0.9993375429020385, 838: 0.9992995670393439, 19: 0.9992471227160664, 336: 0.9991353890399095, 411: 0.9990822721779552, 1320: 0.9990790411512179, 899: 0.9990762090963984, 951: 0.9990593449767724, 1537: 0.9990196553490953, 6: 0.9989994557051917, 1119: 0.9988311675093852, 313: 0.9986838757822023, 102: 0.9986760962873199, 224: 0.9986437924862557, 823: 0.9984164303983871, 909: 0.998314588744068, 274: 0.9983034972574081, 1501: 0.9982149722797758, 914: 0.9982015189773381, 1188: 0.9981356248946596, 717: 0.997920297727651, 868: 0.9976937084532411, 289: 0.9974344830536193, 107: 0.9973727053095482, 1402: 0.9971461209769521, 1481: 0.9971131551302512, 367: 0.9970764553571004, 471: 0.9970569697906246, 595: 0.9969236289018034, 1272: 0.9968688062506454, 910: 0.9968163868117341, 858: 0.9966684373716802, 778: 0.9966455281019627, 1330: 0.9966246220710316, 712: 0.9965377938952195, 40: 0.9960939158513925, 1471: 0.9960100112531246, 1186: 0.9959048755384793, 1518: 0.9953710547528286, 111: 0.9953079751245865, 1503: 0.9952804076055984, 1059: 0.9952328734065338, 1133: 0.9952169309329536, 373: 0.9951970756699601, 768: 0.9951666788301124, 1212: 0.9946209171655682, 1057: 0.9946089803775804, 895: 0.9944596537172224, 1336: 0.9942775698710935, 1263: 0.9942588217184833, 108: 0.9942487420375924, 1256: 0.9937944288082547, 120: 0.9935700542795832, 246: 0.9933981183439269, 757: 0.9932173547409301, 1083: 0.9930277383997397, 898: 0.9930189272672125, 1042: 0.9929023398905475, 1014: 0.9928727380519192, 308: 0.9926920084651392, 273: 0.9922924615946034, 276: 0.9922641929226308, 24: 0.9918752434227344, 979: 0.991779483144915, 476: 0.9915084124867342, 13: 0.9914173107475107, 412: 0.9909137519428104, 12: 0.9905732563485712, 1156: 0.990399964290892, 1350: 0.990397238001152, 1155: 0.990326479403214, 239: 0.989592163159727, 820: 0.9892495840663619, 1415: 0.9887364489597885, 1524: 0.9885339523917784, 472: 0.9882140069655774, 816: 0.9881639829614689, 906: 0.9880721054186142, 393: 0.9876609143474152, 1261: 0.987428123459789, 92: 0.9873728365598836, 1209: 0.987317769241524, 103: 0.9871687305697544, 220: 0.987070599140757, 1633: 0.9868393061997139, 1629: 0.9868393061997138, 772: 0.9864624508402516, 266: 0.9858548101483283, 930: 0.9856547431187793, 1144: 0.9854468811429087, 1510: 0.9853864581656153, 535: 0.9853153018873033, 843: 0.985250908679698, 1105: 0.9851635604188669, 1607: 0.9851004420842002, 1052: 0.98505488311904, 819: 0.9850168656161411, 1414: 0.9848912374722316, 903: 0.9848747742463305, 180: 0.984800691533564, 822: 0.9846846036863288, 1470: 0.984398190760587, 844: 0.9842598935618044, 949: 0.9840374038525174, 919: 0.9839439288198607, 150: 0.9838864083584653, 278: 0.983824280921671, 1509: 0.9833545525209457, 817: 0.9831512398994766, 253: 0.9827975885337163, 1159: 0.9825916578113476, 742: 0.9817617185157167, 119: 0.9815417095120333, 128: 0.9815352218119606, 1007: 0.9815295237725523, 1076: 0.9814592021012487, 928: 0.9814569214092875, 913: 0.9814211122612182, 563: 0.9813621061662969, 799: 0.9812800590207721, 115: 0.9812561813314349, 49: 0.9811790491886274, 831: 0.9811208543459451, 1504: 0.9808081894312094, 830: 0.9807640432871731, 815: 0.9805542536513736, 404: 0.9805377321704323, 121: 0.9804298213044927, 1214: 0.9801715472502814, 33: 0.9801272482548652, 1435: 0.9799082447781787, 409: 0.9798430385561513, 915: 0.979744072562658, 1160: 0.979327743326884, 14: 0.9790870598456294, 1622: 0.9788640513759216, 406: 0.9788287051415305, 918: 0.9785336207913526, 1620: 0.9784196929984276, 1371: 0.9784189251130618, 1645: 0.9781852901283059, 1441: 0.9781468909956671, 1406: 0.9780836466693427, 2: 0.9778019553097885, 15: 0.9777289515993084, 833: 0.9776423662666242, 106: 0.9772446355300604, 344: 0.9770783012207584, 149: 0.9769549501860516, 410: 0.9746988320259619, 250: 0.974371366915357, 571: 0.9738477740436123, 474: 0.973847340818408, 1323: 0.9737089468809901, 846: 0.9736001871475186, 1051: 0.9735683937250729, 916: 0.9734276338701772, 1495: 0.9728548949397663, 852: 0.9720199722777819, 827: 0.9717533489047664, 1259: 0.9712017929968123, 136: 0.9708675354444414, 1006: 0.9707413841082624, 117: 0.9705724818335104, 619: 0.9705342074106211, 853: 0.9703710432649142, 545: 0.9699552159510922, 802: 0.9699153824469666, 1089: 0.9698895307926686, 1440: 0.9692635931715073, 807: 0.9691090474702371, 1423: 0.9684858474462347, 889: 0.9683986880849808, 137: 0.9683402299313, 927: 0.9679436924239846, 1032: 0.9678416675912659, 1482: 0.9674157566623631, 423: 0.966657444609229, 110: 0.9665921069193386, 16: 0.9660183473033935, 1091: 0.9659474363844051, 362: 0.9658256783361492, 1021: 0.9655920031217926, 812: 0.9655446856175568, 758: 0.9649685136395553, 1333: 0.9648562168346821, 283: 0.9644901582424872, 378: 0.9643540310866123, 126: 0.9638642891690888, 1245: 0.9629462195493863, 1593: 0.9629161967522234, 1008: 0.9625992666456653, 760: 0.9625167455722057, 1027: 0.9622934425135162, 992: 0.9621000716385045, 763: 0.962083330763924, 1016: 0.9619573964635885, 1480: 0.9615932063838916, 1318: 0.961366390671294, 1128: 0.9612927309386572, 1047: 0.9611247832696191, 275: 0.9609627433589556, 1327: 0.9608188597662664, 1260: 0.9606465505486449, 1031: 0.9602117987031479, 1375: 0.9599835666787292, 1315: 0.9590798867943353, 1041: 0.9590141610993312, 917: 0.9589956989545216, 20: 0.9583216007966082, 4: 0.9582159410181996, 739: 0.957560238888133, 761: 0.9571799403961335, 280: 0.9561230757603278, 408: 0.9560924099534364, 1180: 0.9559839021843739, 1335: 0.955498178821168, 18: 0.9553030672328775, 247: 0.9551633235000597, 1072: 0.9551599857359365, 1056: 0.954542502259407, 235: 0.954340355782532, 1599: 0.9541037204926079, 249: 0.9540613477455492, 839: 0.9540439363497067, 272: 0.9537829799980421, 236: 0.953450808899806, 1244: 0.9532882166260804, 824: 0.9529735207593893, 318: 0.9529493113453168, 116: 0.9526230560903506, 507: 0.9524072913766297, 124: 0.9521989501517907, 912: 0.951475856391271, 999: 0.9513558590005279, 1161: 0.9507086657432579, 475: 0.9504414532375796, 1172: 0.9504089339996528, 363: 0.9502858511100887, 1313: 0.9494487780696749, 1113: 0.9488109778476391, 35: 0.9480644941964066, 1461: 0.9479437774942578, 755: 0.9478690668286944, 251: 0.9476498567346597, 1211: 0.9472762167702715, 1116: 0.9471259127524179, 256: 0.9470827086402938, 546: 0.9465816900693073, 1198: 0.9461413263617525, 1428: 0.9458161212036353, 268: 0.9457140949354059, 627: 0.9452165793009689, 285: 0.9448019485442987, 1078: 0.9445332187519986, 1299: 0.9435672210586789, 765: 0.9434619939169729, 877: 0.9433962240827608, 1238: 0.9423440033976974, 924: 0.9420977775211894, 794: 0.9414639781562965, 1101: 0.9413207064958802, 1201: 0.9406860248048148, 939: 0.940394895906795, 1419: 0.9403600960392194, 122: 0.9402369320343347, 248: 0.9401017518455748, 296: 0.9398297975938891, 1135: 0.9388520738561278, 675: 0.9387644862613639, 1216: 0.9383354428205594, 1084: 0.937609271758364, 457: 0.9375663868305713, 762: 0.9375313603099763, 305: 0.936049772991741, 1154: 0.9355341710528818, 1249: 0.9355202790092371, 1175: 0.9352799251469119, 1542: 0.9350209330488581, 1228: 0.9349152695025086, 1538: 0.9348216010219915, 1405: 0.9345351214317136, 315: 0.9334771464646314, 368: 0.9331629462957057, 531: 0.9328141410319785, 1114: 0.9327566258117177, 1468: 0.9326532970113257, 551: 0.9323710532056888, 1507: 0.9318739668642984, 1317: 0.9317992242596984, 929: 0.9317429900648184, 470: 0.9312372355993596, 1290: 0.9310428060405529, 1642: 0.9309388187095743, 764: 0.9307377211275487, 5: 0.9303449599849453, 684: 0.9302704621455894, 1502: 0.9299527884137425, 1207: 0.9293451133363281, 425: 0.9291309299378271, 740: 0.9289678535398848, 1281: 0.9286531934285506, 782: 0.9285932580733546, 1010: 0.9283221114534134, 1224: 0.9278204749211969, 129: 0.9276544896867073, 1067: 0.9275298628675985, 1515: 0.9272105885610189, 105: 0.9263996453794391, 590: 0.9260390473927249, 1604: 0.9257206210762222, 1092: 0.9249669934283966, 806: 0.9245926305059988, 1370: 0.9245338854721421, 721: 0.9241469332654466, 361: 0.9234025869239748, 976: 0.9231322868010502, 1512: 0.9230821946695233, 1311: 0.9230347186099845, 840: 0.9227005153656496, 1243: 0.9226371227382131, 671: 0.9225182469443882, 1334: 0.9223989408946281, 286: 0.9223088840317156, 1013: 0.9221695848062882, 741: 0.9221140939281816, 883: 0.9219766909655346, 697: 0.9214372413126493, 1354: 0.9206023844074329, 223: 0.9205559871218484, 770: 0.9205069880006248, 981: 0.9204913895365673, 290: 0.9204211939921381, 911: 0.9202734816410985, 146: 0.9199945739079965, 865: 0.9198697101592697, 1219: 0.9194688817045932, 147: 0.9193038953504294, 1614: 0.9192383257267577, 1000: 0.9185445134354024, 219: 0.9182404224121726, 301: 0.9182195114199697, 1196: 0.917819520897626, 1023: 0.9176385808331957, 26: 0.9168108804560079, 1663: 0.9167180076913007, 1357: 0.9166278464104853, 267: 0.9163273834099379, 596: 0.9162825004954407, 83: 0.9161381395414214, 1087: 0.9160199134884167, 1137: 0.9157293807680913, 346: 0.9156295145616457, 1520: 0.9151464408451765, 750: 0.9148822955351451, 743: 0.9148183228584666, 1422: 0.9137397044357093, 1366: 0.9133735961626929, 682: 0.9128382833625809, 759: 0.912826531577646, 1590: 0.9125189721711294, 1166: 0.9123339141363687, 1141: 0.9120399113173662, 1225: 0.9114116664103659, 257: 0.911379985763836, 1355: 0.9111968799376988, 695: 0.9108738085170894, 1417: 0.9106570601346816, 1588: 0.9105887372769244, 337: 0.9103257786067809, 281: 0.9102731490569499, 800: 0.909629690584872, 679: 0.9096086636741663, 1088: 0.9093130666925194, 1138: 0.909000810014778, 790: 0.9075914308245318, 539: 0.9070370729557791, 1412: 0.906937593592279, 241: 0.9059585850826466, 37: 0.9055889267773505, 1601: 0.905528337298092, 270: 0.9054529037990738, 1676: 0.9052548432950261, 310: 0.9049871757673511, 1015: 0.9043065574480955, 900: 0.9041827006242349, 901: 0.9041313273071246, 973: 0.9041152117483999, 1011: 0.9040931854914968, 925: 0.9040052049378395, 923: 0.9038042104924081, 1500: 0.9024513328489916, 10: 0.9021990949201407, 279: 0.9014547240385666, 1046: 0.9012581450509789, 1150: 0.9012416159708517, 935: 0.9007017724705859, 376: 0.900641646142806, 1179: 0.900561776268596, 801: 0.9003672037020928, 1028: 0.899865291337205, 1048: 0.8996586551903016, 258: 0.8995869373453049, 540: 0.899255117303596, 261: 0.8989339865746998, 1274: 0.8987968995779058, 797: 0.8987474851059147, 405: 0.8985282414899937, 271: 0.8979498004690099, 1136: 0.8977887780249941, 1001: 0.8974717680972251, 245: 0.8970765604065623, 1386: 0.8966619175129489, 1280: 0.8961715814194451, 566: 0.8959672104430855, 902: 0.895879445945163, 1033: 0.8958654745516716, 933: 0.8958423680442981, 1142: 0.8953955348571763, 302: 0.8945614975596796, 293: 0.8945108589471987, 1086: 0.8938113283545253, 314: 0.8937242804475521, 320: 0.8935649777324743, 345: 0.8934141891787059, 832: 0.8926296232720641, 859: 0.8925722596723256, 789: 0.8921051005208871, 1377: 0.8919713151802674, 720: 0.891613653318144, 265: 0.8914232800737124, 1085: 0.8907418225998457, 112: 0.8900361768637683, 453: 0.8897342956781791, 870: 0.8892692374916208, 1252: 0.8891719538540621, 991: 0.8886881928362713, 980: 0.8883288885428252, 931: 0.8882095233329549, 774: 0.8879005558612174, 1127: 0.8877903704141906, 353: 0.8877464700365421, 452: 0.8875850546254319, 312: 0.8869418121934478, 748: 0.886902553873639, 932: 0.8859616585337833, 1591: 0.88442835907282, 1490: 0.884387634594235, 1606: 0.8843851622890871, 287: 0.8839170798643652, 773: 0.8831328580017952, 292: 0.8829331201640415, 1170: 0.8827355162674856, 1409: 0.8817838378984103, 1531: 0.8816698871629168, 780: 0.8811595144173817, 263: 0.8806467915665619, 365: 0.880363535203567, 905: 0.8796647603760386, 779: 0.8796260012509859, 323: 0.8795617560495661, 1162: 0.8791287994817103, 1615: 0.8787621137810722, 1053: 0.8784458531477267, 252: 0.877174685114754, 1129: 0.8770358288700965, 1368: 0.8766805788977076, 1282: 0.8766412794438556, 339: 0.8766082609822015, 127: 0.8763487245986372, 1349: 0.875759831348391, 269: 0.8755262374316405, 1445: 0.8752966143993003, 881: 0.8739072140974179, 532: 0.8736911912333066, 1436: 0.8735942068570528, 297: 0.8730804699270263, 808: 0.8727139107038416, 1594: 0.872400059279999, 407: 0.8722766567701333, 1215: 0.8713469763440377, 288: 0.8708266323506824, 1217: 0.8704283087886432, 1530: 0.8697617489164302, 1255: 0.8697037637638968, 1206: 0.8692480535781155, 1321: 0.8687767321975767, 1066: 0.8685158524980728, 896: 0.8683950834422179, 1628: 0.8676538793535854, 543: 0.8676212758790289, 259: 0.8675876214102881, 451: 0.8675525106918307, 1058: 0.8675044041752735, 342: 0.8660017849177288, 1230: 0.8655278584305712, 552: 0.8655153847295687, 1392: 0.8653691010823745, 1302: 0.8653183841879596, 1045: 0.8648552046121533, 1442: 0.8640012759869009, 1278: 0.8634442646531469, 1080: 0.8632496181844326, 538: 0.8624987214336192, 724: 0.862455054052121, 730: 0.8623393470542955, 125: 0.8611307775371858, 303: 0.8609434730893413, 352: 0.8607547708138142, 1213: 0.8605604156472493, 514: 0.8604773775322058, 891: 0.8596132460708951, 926: 0.859219247192214, 1034: 0.8589545333553196, 304: 0.85884713318687, 277: 0.8585459007161751, 727: 0.858355669596114, 372: 0.8582048775506393, 863: 0.8576093967446661, 1131: 0.8562351074361664, 749: 0.8549336850985706, 369: 0.8542215182395191, 262: 0.8540505645149266, 1494: 0.8540352365504205, 54: 0.8536774362012657, 814: 0.8533560720491186, 319: 0.8533260762098192, 9: 0.8531365101128774, 333: 0.8531237979937563, 1310: 0.853064530878897, 908: 0.8527738627556246, 459: 0.8527505998700656, 975: 0.8523123502293655, 550: 0.8521371147568155, 1438: 0.8515470091469491, 1536: 0.8512941151947522, 994: 0.850992055620097, 938: 0.8509118883753938, 242: 0.8509118597422761, 1367: 0.8507348621676766, 1337: 0.8505894315432678, 845: 0.8502213652158999, 455: 0.8499793897622608, 1039: 0.849746224418979, 1177: 0.849569988271744, 589: 0.849270700846284, 254: 0.8487655946921452, 260: 0.8486130198814437, 1671: 0.848205761876003, 357: 0.8480978617647295, 11: 0.8477585197241269, 534: 0.847500459251851, 1584: 0.8471050527667562, 1227: 0.8468824238208874, 1241: 0.8467530464070292, 561: 0.8457303301089392, 1060: 0.8455996201195549, 568: 0.8455444663049965, 244: 0.8449601062780644, 145: 0.8449601062780643, 294: 0.8449601062780642, 553: 0.8445094052794656, 848: 0.8442575618239753, 1656: 0.8437504897260935, 685: 0.8435246378573011, 861: 0.8432301054243353, 766: 0.8415842042836189, 1054: 0.8406689786132331, 733: 0.8405129261806281, 397: 0.8401053944448702, 1018: 0.8400093807281235, 705: 0.8399719866817655, 1165: 0.8386571227190366, 942: 0.8386557036866157, 1223: 0.838573873440535, 622: 0.8366270985073779, 737: 0.835976370403357, 1187: 0.8347305912795556, 364: 0.8341298822256124, 158: 0.8339833893814366, 1543: 0.8335905731113479, 803: 0.8330601903688258, 837: 0.8323432995860471, 28: 0.8302135774037839, 1220: 0.8288474160165036, 1316: 0.8282782284972355, 1596: 0.8274567800569597, 157: 0.8270942333325556, 562: 0.8260420808035295, 1168: 0.8257774840042541, 48: 0.82531366622614, 577: 0.8251790905983626, 77: 0.8241481614883522, 32: 0.8237419055258377, 1485: 0.8230463404964276, 1332: 0.8216975661668784, 1070: 0.8214660515870827, 1539: 0.8208970441871503, 1246: 0.8208240261783897, 30: 0.8198914620781742, 200: 0.8191691272012016, 1641: 0.8189900545165146, 355: 0.8181379564698197, 940: 0.8166048905852555, 1239: 0.8165702588137536, 183: 0.8147284972726664, 1184: 0.8132997576319896, 42: 0.8108567021792883, 1251: 0.8104957655604539, 41: 0.8098579917150313, 793: 0.8093077858960959, 998: 0.8083206300770148, 805: 0.80790575857972, 784: 0.8069066473008032, 1300: 0.8051306066877472, 222: 0.8048860918776847, 1247: 0.8043693441498835, 573: 0.8040978304669645, 796: 0.8034361898472988, 576: 0.8034280498965, 866: 0.8026390297854537, 1222: 0.8020129916491072, 1118: 0.7989126739578314, 1477: 0.7956987994407054, 53: 0.7956587399212208, 657: 0.7955748982406352, 719: 0.7937553466049697, 1176: 0.7933760401470359, 1073: 0.7928926605004595, 374: 0.7926588049478918, 1418: 0.7925640466642819, 420: 0.791854081551661, 1465: 0.7915417422126384, 1499: 0.7914000815399522, 1431: 0.7909306638028067, 154: 0.790511025618004, 1434: 0.7888863432412799, 1577: 0.7883201290341666, 530: 0.7868498614396432, 1178: 0.7865156553451366, 1273: 0.7859230998521568, 1036: 0.7847965300052575, 715: 0.784075514715252, 394: 0.7833927601291758, 1173: 0.7832281159429296, 559: 0.7822084112840858, 1399: 0.7808930645416176, 382: 0.7798873293398773, 21: 0.7793141357546742, 1484: 0.7789187000955032, 626: 0.7788864668730316, 1303: 0.777903326025459, 155: 0.7775665099921526, 66: 0.7770820007130644, 449: 0.7765543316151351, 1183: 0.7764272127704336, 1221: 0.7762884600212919, 788: 0.77620848831694, 575: 0.7761610574355373, 143: 0.7756887405766593, 570: 0.7756698426809137, 1040: 0.775508948694199, 55: 0.7732312176357634, 91: 0.7723933859142111, 995: 0.7722100870964547, 52: 0.7721737146894386, 771: 0.7718738753470632, 584: 0.7703738006227704, 67: 0.7702513242778704, 144: 0.7650771828247335, 1655: 0.7650746756219707, 722: 0.7649726809198093, 1464: 0.7649126958453931, 745: 0.7646045126544042, 1427: 0.7645363971296997, 945: 0.763571647390162, 217: 0.7631915064545787, 232: 0.7593722522619888, 549: 0.7583549088371103, 467: 0.7578822131802969, 767: 0.7557818566636189, 163: 0.7553077110670141, 34: 0.7552556615847066, 78: 0.7535263730255825, 811: 0.7514193081659883, 94: 0.7510575221830615, 567: 0.7500463784530165, 76: 0.7497587798144497, 809: 0.7497248819088064, 1517: 0.7493205923638787, 948: 0.7472522354331349, 1521: 0.7463660840617458, 754: 0.7454504602085287, 1: 0.7453992552836144, 1408: 0.7449999050013849, 225: 0.7443657905081379, 84: 0.7435526599420645, 1489: 0.7424489145265354, 95: 0.7421588543127834, 139: 0.7420673111550649, 61: 0.7419312710851107, 723: 0.7415219186853783, 218: 0.7411609702063846, 795: 0.7396510007476487, 97: 0.7393337545559118, 50: 0.7392783147760893, 1075: 0.7390840968164323, 65: 0.7389893247605415, 1488: 0.7386394657689223, 696: 0.738422581901464, 664: 0.7381646609829464, 954: 0.7380140519544425, 38: 0.7370390310119986, 469: 0.7354496202658575, 1194: 0.7344184377167392, 692: 0.7340787536164102, 1248: 0.733813569308892, 230: 0.7317197361075587, 231: 0.7316721953113476, 39: 0.730312180534811, 683: 0.7288911364725672, 738: 0.7277281683748391, 43: 0.7275006787641711, 383: 0.7274086483811384, 709: 0.7271324357417116, 958: 0.7260937133102942, 1475: 0.7246704258698156, 399: 0.7237080709320334, 63: 0.7233654212286924, 1437: 0.7226673452310758, 1130: 0.7222327348539149, 1055: 0.7210813399374859, 1424: 0.7200190659155278, 1266: 0.7197359631087032, 1627: 0.7194032153666601, 943: 0.7187516523542046, 1108: 0.7161871709024342, 1218: 0.7136120582924406, 384: 0.7132534457243771, 574: 0.7131353802428012, 1181: 0.71244837222156, 1231: 0.7124279520572548, 864: 0.7104657445261635, 89: 0.7099087861171538, 401: 0.7091407056793625, 634: 0.7087172748948675, 786: 0.7077263219991881, 1140: 0.7065192753038583, 499: 0.7061534948472922, 375: 0.7060939511510802, 1071: 0.70543604552657, 1026: 0.7045241747408836, 1090: 0.7032295187275189, 1508: 0.7031941864073735, 651: 0.7024197650163376, 1630: 0.7015558951852687, 756: 0.7010410571753757, 216: 0.700876172338488, 813: 0.6989711602869462, 829: 0.698971160286946, 856: 0.6989711602869458, 718: 0.6984945166931325, 1035: 0.6982928898220232, 1195: 0.6976904749247751, 997: 0.6960503022435404, 317: 0.6944656002841189, 366: 0.6940154564304504, 1284: 0.6923501774818821, 1660: 0.6917217100576308, 1110: 0.6914907506770865, 391: 0.6907032969143136, 160: 0.6893470445250142, 86: 0.6890157064586594, 792: 0.6879338192187671, 1359: 0.6873971812835843, 962: 0.6859469953206219, 752: 0.6858859051097577, 69: 0.685305527387565, 585: 0.6852200076269161, 959: 0.6845459937269566, 691: 0.682864883545282, 3: 0.6827993409644434, 74: 0.68263203395546, 555: 0.6813363022215674, 25: 0.6812155133522629, 1304: 0.6803454996473052, 238: 0.6791596487947069, 226: 0.6780610909580741, 1548: 0.6778085179870817, 171: 0.6773686862488945, 172: 0.6771856573384253, 541: 0.6757689944256633, 402: 0.6757249091109092, 81: 0.673501795775344, 240: 0.6732834095377039, 70: 0.6732341755122946, 1004: 0.6726546686564471, 557: 0.671856571824719, 1208: 0.6714809206721285, 587: 0.6712263409215014, 544: 0.6705892850779205, 173: 0.6704705165122374, 209: 0.6701761717900886, 199: 0.6692509050710044, 558: 0.66860059687143, 565: 0.6678095662887882, 1134: 0.6678025960377776, 746: 0.6670063779015233, 468: 0.6668598576624453, 1107: 0.6666262800986086, 392: 0.66651816581576, 1267: 0.6658668907299481, 395: 0.665267486737482, 62: 0.6651744575270842, 1043: 0.6647181256841762, 726: 0.6646384903077394, 536: 0.6645945497465183, 1262: 0.6640846723789636, 7: 0.6597615958256962, 68: 0.6593898721366327, 448: 0.6589491972811815, 27: 0.6588322580561894, 728: 0.6585067966403485, 56: 0.6583641583219775, 1152: 0.6583400659909442, 387: 0.6577401036031035, 175: 0.6573807480426251, 1038: 0.6557712236199803, 1097: 0.6533623506881362, 965: 0.653137039975068, 440: 0.6524002649702073, 857: 0.6514031869659944, 264: 0.6509488613159087, 194: 0.6502318139266995, 1193: 0.6500506078031885, 79: 0.6499136154253229, 582: 0.647115544483508, 203: 0.6469905244391024, 64: 0.6468463479378139, 1466: 0.6464132645369782, 548: 0.6464018072043537, 421: 0.6447679227466413, 205: 0.6438619934011263, 560: 0.6427104758081773, 777: 0.6424608203110521, 233: 0.642069893084649, 170: 0.6415056161569834, 181: 0.640849389339565, 1552: 0.6385277729986537, 201: 0.6379981713270658, 430: 0.636714620152517, 371: 0.6361652685587015, 650: 0.6361139128444419, 229: 0.6346202573271104, 1397: 0.6341449028387276, 390: 0.6333820249480435, 580: 0.6332188328698067, 624: 0.6325052111543648, 1551: 0.6318433253953523, 71: 0.6301144818451166, 725: 0.6291529751360567, 202: 0.6287025943633762, 635: 0.6271632581086942, 1030: 0.6267996087254225, 1029: 0.6236352544003909, 316: 0.6235391779871516, 87: 0.6227815657454826, 694: 0.6214677885318061, 228: 0.6212617242007329, 57: 0.6208229912883174, 1099: 0.6204225983405528, 1169: 0.6202918547389416, 215: 0.6195440117724292, 996: 0.6192534409460704, 400: 0.6180535901300842, 1483: 0.6153999495011345, 168: 0.6143372510224419, 389: 0.6122636183094488, 398: 0.611783622672221, 450: 0.6114323010304817, 227: 0.6098841930456808, 93: 0.6090705598109984, 182: 0.6075096335535155, 734: 0.6055485758845071, 82: 0.6045763194168317, 775: 0.6032199022759134, 417: 0.6029003924768989, 769: 0.6021649443008122, 72: 0.6016123330465386, 554: 0.5991420808080216, 379: 0.5974910461353983, 414: 0.5972784312206226, 1469: 0.5969236807807187, 195: 0.5968826724624842, 465: 0.5967810239086752, 731: 0.5963752688692397, 446: 0.5955752733114177, 214: 0.5941842236433842, 142: 0.5930018789155699, 156: 0.59269966587314, 96: 0.5912064003098376, 461: 0.5905590466015282, 75: 0.5902235229776058, 197: 0.5899409019433085, 385: 0.5893679933925191, 109: 0.5884433713372622, 422: 0.5884296616147853, 586: 0.5876357375404183, 1167: 0.5876280550420174, 1447: 0.5873833257033809, 654: 0.5871469721133067, 380: 0.58655518656593, 1345: 0.5855822626420575, 1329: 0.5853918491239057, 1062: 0.5849871478782532, 1077: 0.583955896352668, 113: 0.5810282736089798, 114: 0.5808935982188633, 60: 0.5807279656686395, 564: 0.5793416221438642, 167: 0.5788867278483195, 1182: 0.5788675992442773, 698: 0.5776707063564072, 714: 0.5766108834786265, 138: 0.574776200338746, 166: 0.5731555154167037, 581: 0.5729342465563799, 447: 0.5709579043401589, 1146: 0.5703215209880386, 466: 0.568824637875814, 952: 0.5677981857664258, 1139: 0.5675965523323537, 90: 0.5671326373464424, 381: 0.5666714503197183, 591: 0.5659921031605841, 1403: 0.5655029452233803, 941: 0.5653544538280076, 237: 0.5645909329072935, 432: 0.5637935124165208, 419: 0.5627121588309817, 159: 0.5614003380728405, 1360: 0.559730675610726, 80: 0.5589442000452239, 187: 0.5586585521206066, 785: 0.5559498871309241, 729: 0.5552937930032632, 88: 0.5543443288747291, 1197: 0.5508576027209063, 47: 0.5504801860076177, 1229: 0.5504713147532773, 464: 0.5504057256236167, 1625: 0.5492356835770847, 1192: 0.548841877724977, 1100: 0.5487396499636181, 946: 0.5486482672730741, 1621: 0.5477437004028679, 58: 0.5474985785930263, 386: 0.5461252182561359, 462: 0.5440816260270451, 693: 0.5438472186156389, 1400: 0.5435389166517739, 708: 0.5433450094888955, 968: 0.543242837227771, 188: 0.5425735780648978, 152: 0.5423689405396025, 678: 0.5418561618380964, 1506: 0.5408279513183976, 85: 0.5405412583961491, 1462: 0.5399761003616055, 1680: 0.5375804337722974, 1068: 0.5371016656094304, 659: 0.5367033449477497, 31: 0.5363483547829446, 955: 0.5354205867032746, 17: 0.5348293361424394, 22: 0.5348293361424393}\n"
          ]
        }
      ]
    }
  ]
}