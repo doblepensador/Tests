{
  "nbformat": 4,
  "nbformat_minor": 0,
  "metadata": {
    "colab": {
      "name": "Recommendation System",
      "provenance": [],
      "collapsed_sections": [],
      "authorship_tag": "ABX9TyNSfqRutl7/kY6I3wAZfuvl",
      "include_colab_link": true
    },
    "kernelspec": {
      "name": "python3",
      "display_name": "Python 3"
    },
    "language_info": {
      "name": "python"
    }
  },
  "cells": [
    {
      "cell_type": "markdown",
      "metadata": {
        "id": "view-in-github",
        "colab_type": "text"
      },
      "source": [
        "<a href=\"https://colab.research.google.com/github/doblepensador/Tests/blob/master/Recommendation_System.ipynb\" target=\"_parent\"><img src=\"https://colab.research.google.com/assets/colab-badge.svg\" alt=\"Open In Colab\"/></a>"
      ]
    },
    {
      "cell_type": "code",
      "execution_count": null,
      "metadata": {
        "id": "pe2M7BkTkBQ_"
      },
      "outputs": [],
      "source": [
        "!pip install scikit-surprise"
      ]
    },
    {
      "cell_type": "code",
      "source": [
        "import numpy as np\n",
        "from surprise import Dataset"
      ],
      "metadata": {
        "id": "gqiUAURqk2jP"
      },
      "execution_count": 3,
      "outputs": []
    },
    {
      "cell_type": "code",
      "source": [
        "data = Dataset.load_builtin('ml-100k', prompt = False)"
      ],
      "metadata": {
        "id": "ayyoD1yHk_OX"
      },
      "execution_count": null,
      "outputs": []
    },
    {
      "cell_type": "code",
      "source": [
        "raw_data = np.array(data.raw_ratings, dtype=int) \n",
        "raw_data[:,0] -=1 #Make ID No. start from 0. \n",
        "raw_data[:,1] -=1 #Make Item No. start from 0.\n",
        " "
      ],
      "metadata": {
        "id": "KVlwUTpqlrzd"
      },
      "execution_count": 6,
      "outputs": []
    },
    {
      "cell_type": "code",
      "source": [
        "n_users = np.max(raw_data[:,0]) + 1\n",
        "n_movies = np.max(raw_data[:,1]) + 1\n",
        "shape = (n_users, n_movies)\n",
        "shape\n"
      ],
      "metadata": {
        "id": "SXZGNKWiset6"
      },
      "execution_count": null,
      "outputs": []
    },
    {
      "cell_type": "code",
      "source": [
        "adj_matrix = np.ndarray(shape, dtype=int)\n",
        "for user_id, movie_id, rating, time in raw_data:\n",
        "  adj_matrix[user_id][movie_id] = 1.\n",
        "adj_matrix"
      ],
      "metadata": {
        "id": "xTMbx0ZGtAG0"
      },
      "execution_count": null,
      "outputs": []
    },
    {
      "cell_type": "code",
      "source": [
        "my_id, my_vector = 0, adj_matrix[0]\n",
        "best_match, best_match_id, best_match_vector = -1, -1, []\n",
        "for user_id, user_vector in enumerate(adj_matrix):\n",
        "  if user_id != my_id:\n",
        "    similarity = np.dot(user_vector, my_vector)\n",
        "    if similarity > best_match:\n",
        "      best_match = similarity\n",
        "      best_match_id = user_id\n",
        "      best_match_vector = user_vector\n",
        "print(\"the best match value is {0}. The best match ID is {1}\".format(best_match, best_match_id))"
      ],
      "metadata": {
        "id": "Sc268P3jbP6s"
      },
      "execution_count": null,
      "outputs": []
    }
  ]
}