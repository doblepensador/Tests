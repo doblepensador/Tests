{
  "nbformat": 4,
  "nbformat_minor": 0,
  "metadata": {
    "colab": {
      "name": "Support Vector Machine",
      "provenance": [],
      "authorship_tag": "ABX9TyOJ4Z6gWAunX+rpu7Vf1KSo",
      "include_colab_link": true
    },
    "kernelspec": {
      "name": "python3",
      "display_name": "Python 3"
    },
    "language_info": {
      "name": "python"
    }
  },
  "cells": [
    {
      "cell_type": "markdown",
      "metadata": {
        "id": "view-in-github",
        "colab_type": "text"
      },
      "source": [
        "<a href=\"https://colab.research.google.com/github/doblepensador/Tests/blob/master/Support_Vector_Machine.ipynb\" target=\"_parent\"><img src=\"https://colab.research.google.com/assets/colab-badge.svg\" alt=\"Open In Colab\"/></a>"
      ]
    },
    {
      "cell_type": "code",
      "execution_count": 1,
      "metadata": {
        "id": "hIF2jb12eybU"
      },
      "outputs": [],
      "source": [
        "import multiprocessing\n",
        "import pandas as pd \n",
        "import numpy as np \n",
        "import matplotlib.pyplot as plt\n",
        "plt.style.use(['seaborn-whitegrid'])"
      ]
    },
    {
      "cell_type": "code",
      "source": [
        "from sklearn.svm import SVR, SVC\n"
      ],
      "metadata": {
        "id": "mgaRtFdZfRn3"
      },
      "execution_count": 2,
      "outputs": []
    },
    {
      "cell_type": "code",
      "source": [
        "from sklearn.datasets import load_boston, load_diabetes\n",
        "from sklearn.datasets import load_iris, load_breast_cancer, load_wine\n",
        "from sklearn.pipeline import make_pipeline, Pipeline\n",
        "from sklearn.model_selection import train_test_split, cross_validate, GridSearchCV\n",
        "from sklearn.preprocessing import StandardScaler, MinMaxScaler\n",
        "from sklearn.manifold import TSNE\n",
        " "
      ],
      "metadata": {
        "id": "6AwyXkCxfeod"
      },
      "execution_count": 3,
      "outputs": []
    },
    {
      "cell_type": "markdown",
      "source": [
        "\n",
        "\n",
        "> SVM\n",
        "\n"
      ],
      "metadata": {
        "id": "P4Vaqz6Rg75n"
      }
    },
    {
      "cell_type": "code",
      "source": [
        "X, y = load_boston(return_X_y=True)\n",
        "X_train, X_test, y_train, y_test = train_test_split(X,y, random_state=123)\n",
        "\n",
        "# model = make_pipeline(StandardScaler(), SGDRegressor(loss='squared_error'))\n",
        "# model.fit(X_train, y_train)\n",
        "\n",
        "model = SVR()\n",
        "model.fit(X_train, y_train)\n",
        "print(\"Score for the train set: {}\".format(model.score(X_train, y_train)))\n",
        "print(\"Score for the test set: {}\".format(model.score(X_test, y_test)))\n",
        "# Score for the train set: 0.2177283706374875\n",
        "# Score for the test set: 0.13544178468518187"
      ],
      "metadata": {
        "id": "XoXC9_AehCHB"
      },
      "execution_count": null,
      "outputs": []
    },
    {
      "cell_type": "markdown",
      "source": [
        "\n",
        "\n",
        "> SVC\n",
        "\n"
      ],
      "metadata": {
        "id": "0KQ67850imyt"
      }
    },
    {
      "cell_type": "code",
      "source": [
        "X, y = load_breast_cancer(return_X_y=True)\n",
        "X_train, X_test, y_train, y_test = train_test_split(X,y, random_state=123)\n",
        "\n",
        "model = SVC()\n",
        "model.fit(X_train, y_train)\n",
        "print(\"Score for the train set: {}\".format(model.score(X_train, y_train)))\n",
        "print(\"Score for the test set: {}\".format(model.score(X_test, y_test)))"
      ],
      "metadata": {
        "colab": {
          "base_uri": "https://localhost:8080/"
        },
        "id": "QwhRojhQilZ8",
        "outputId": "cf9cddc0-40b2-4c02-e3ce-1cb36e8af7b0"
      },
      "execution_count": null,
      "outputs": [
        {
          "output_type": "stream",
          "name": "stdout",
          "text": [
            "Score for the train set: 0.9014084507042254\n",
            "Score for the test set: 0.9230769230769231\n"
          ]
        }
      ]
    },
    {
      "cell_type": "markdown",
      "source": [
        "\n",
        "\n",
        "> Kernel Function\n",
        "\n",
        "\n",
        "\n"
      ],
      "metadata": {
        "id": "WDTbLHxfizv1"
      }
    },
    {
      "cell_type": "code",
      "source": [
        "X, y = load_boston(return_X_y=True)\n",
        "X_train, X_test, y_train, y_test = train_test_split(X,y, random_state=123)\n",
        "\n",
        "linear_svr = SVR(kernel='linear')\n",
        "linear_svr.fit(X_train, y_train)\n",
        "print(\"Score for the train set: {}\".format(linear_svr.score(X_train, y_train)))\n",
        "print(\"Score for the test set: {}\".format(linear_svr.score(X_test, y_test)))\n",
        "\n",
        "polynomial_svr = SVR(kernel='poly')\n",
        "polynomial_svr.fit(X_train, y_train)\n",
        "print(\"Score for the train set: {}\".format(polynomial_svr.score(X_train, y_train)))\n",
        "print(\"Score for the test set: {}\".format(polynomial_svr.score(X_test, y_test)))\n",
        "\n",
        "rbf_svr = SVR(kernel='rbf')\n",
        "rbf_svr.fit(X_train, y_train)\n",
        "print(\"Score for the train set: {}\".format(rbf_svr.score(X_train, y_train)))\n",
        "print(\"Score for the test set: {}\".format(rbf_svr.score(X_test, y_test)))\n"
      ],
      "metadata": {
        "id": "0_1JjQUmi40H"
      },
      "execution_count": null,
      "outputs": []
    },
    {
      "cell_type": "code",
      "source": [
        "X, y = load_breast_cancer(return_X_y=True)\n",
        "X_train, X_test, y_train, y_test = train_test_split(X,y, random_state=123)\n",
        "\n",
        "linear_svc = SVC(kernel='linear')\n",
        "linear_svc.fit(X_train, y_train)\n",
        "print(\"Score for the train set: {}\".format(linear_svc.score(X_train, y_train)))\n",
        "print(\"Score for the test set: {}\".format(linear_svc.score(X_test, y_test)))\n",
        "\n",
        "polynomial_svc = SVR(kernel='poly')\n",
        "polynomial_svc.fit(X_train, y_train)\n",
        "print(\"Score for the train set: {}\".format(polynomial_svc.score(X_train, y_train)))\n",
        "print(\"Score for the test set: {}\".format(polynomial_svc.score(X_test, y_test)))\n",
        "\n",
        "rbf_svc = SVR(kernel='rbf')\n",
        "rbf_svc.fit(X_train, y_train)\n",
        "print(\"Score for the train set: {}\".format(rbf_svc.score(X_train, y_train)))\n",
        "print(\"Score for the test set: {}\".format(rbf_svc.score(X_test, y_test)))"
      ],
      "metadata": {
        "id": "V8wFCEwqkdet",
        "colab": {
          "base_uri": "https://localhost:8080/"
        },
        "outputId": "43fcc136-9610-42c9-d4f2-79688c639178"
      },
      "execution_count": 21,
      "outputs": [
        {
          "output_type": "stream",
          "name": "stdout",
          "text": [
            "Score for the train set: 0.960093896713615\n",
            "Score for the test set: 0.986013986013986\n",
            "Score for the train set: 0.5492121168675772\n",
            "Score for the test set: 0.3307672139416642\n",
            "Score for the train set: 0.7141833202421761\n",
            "Score for the test set: 0.7625209396028003\n"
          ]
        }
      ]
    },
    {
      "cell_type": "code",
      "source": [
        "# # 객체생성\n",
        "# scaler = StandardScaler()\n",
        "\n",
        "# # fit -> transform\n",
        "# scaler.fit(df) # df는 2차원 이상의 값이어야 함\n",
        "# df_scaled = scaler.transform(df)\n",
        "\n",
        "# # 배열형태로 반환되기 때문에 데이터 프레임으로 변환해주는 작업\n",
        "# df_scaled = pd.DataFrame(data = df_scaled)\n",
        "\n",
        "\n",
        "# # *** 만약 특정 열의 스케일링을 하고 싶은 경우 ***\n",
        "# A_n = scaler.fit_transform(df['A'].values.reshape(-1,1))\n",
        "# df.insert(0, 'A_scaled', A_n)\n",
        "# df.drop(['A'], axis=1, inplace=True)\n",
        "\n",
        "X, y = load_diabetes(return_X_y=True)\n",
        "X_train, X_test, y_train, y_test = train_test_split(X,y, test_size=0.2)\n",
        "\n",
        "scaler = StandardScaler()\n",
        "scaler.fit(X_train)\n",
        "X_train = scaler.transform(X_train)\n",
        "X_test = scaler.transform(X_test)\n"
      ],
      "metadata": {
        "id": "aKaEMkGJoBNH"
      },
      "execution_count": 4,
      "outputs": []
    },
    {
      "cell_type": "code",
      "source": [
        "model = SVR(kernel='linear')\n",
        "model.fit(X_train, y_train)\n",
        "\n",
        "print(\"Score for the train set: {}\".format(model.score(X_train, y_train)))\n",
        "print(\"Score for the test set: {}\".format(model.score(X_test, y_test)))"
      ],
      "metadata": {
        "colab": {
          "base_uri": "https://localhost:8080/"
        },
        "id": "CccM5Hmkp4Jx",
        "outputId": "2cfe9835-09e3-4b3f-c406-c18f18397b85"
      },
      "execution_count": 5,
      "outputs": [
        {
          "output_type": "stream",
          "name": "stdout",
          "text": [
            "Score for the train set: 0.5204274130135336\n",
            "Score for the test set: 0.42508654411628244\n"
          ]
        }
      ]
    },
    {
      "cell_type": "code",
      "source": [
        "# SVM은 결국 Kernel function으로 차원을 높여서 분류 내지는 회기를 하는 것이기 때문에, \n",
        "# t-SNE나 다른 차원을 낮추는 방법을 통해 시각화해야 한다.\n",
        "\n",
        "# X_comp = TSNE(n_components=1).fit_transform(X)\n",
        "# plt.scatter(X_comp, y);\n",
        "\n",
        "t_SNE = TSNE(n_components=1)\n",
        "X_comp = t_SNE.fit_transform(X)\n",
        "plt.scatter(X_comp, y);"
      ],
      "metadata": {
        "colab": {
          "base_uri": "https://localhost:8080/",
          "height": 351
        },
        "id": "6DZ0VRYtqZBY",
        "outputId": "2da53f98-15a7-485c-f852-ddf8b6fb1acd"
      },
      "execution_count": 6,
      "outputs": [
        {
          "output_type": "stream",
          "name": "stderr",
          "text": [
            "/usr/local/lib/python3.7/dist-packages/sklearn/manifold/_t_sne.py:783: FutureWarning: The default initialization in TSNE will change from 'random' to 'pca' in 1.2.\n",
            "  FutureWarning,\n",
            "/usr/local/lib/python3.7/dist-packages/sklearn/manifold/_t_sne.py:793: FutureWarning: The default learning rate in TSNE will change from 200.0 to 'auto' in 1.2.\n",
            "  FutureWarning,\n"
          ]
        },
        {
          "output_type": "display_data",
          "data": {
            "image/png": "[encoded data removed]",
            "text/plain": [
              "<Figure size 432x288 with 1 Axes>"
            ]
          },
          "metadata": {
            "needs_background": "light"
          }
        }
      ]
    },
    {
      "cell_type": "code",
      "source": [
        "X_comp"
      ],
      "metadata": {
        "id": "l20iUVrggBL9"
      },
      "execution_count": null,
      "outputs": []
    },
    {
      "cell_type": "code",
      "source": [
        "model.fit(X_comp, y)\n",
        "predict = model.predict(X_comp)\n",
        "plt.scatter(X_comp, y)\n",
        "plt.scatter(X_comp, predict, color='r');"
      ],
      "metadata": {
        "colab": {
          "base_uri": "https://localhost:8080/",
          "height": 262
        },
        "id": "A5U_X8nptKmT",
        "outputId": "ea1b50ca-ad39-461a-e267-58e3122d0de2"
      },
      "execution_count": 8,
      "outputs": [
        {
          "output_type": "display_data",
          "data": {
            "image/png": "[encoded data removed]",
            "text/plain": [
              "<Figure size 432x288 with 1 Axes>"
            ]
          },
          "metadata": {
            "needs_background": "light"
          }
        }
      ]
    },
    {
      "cell_type": "code",
      "source": [
        "estimator = make_pipeline(StandardScaler(), SVR(kernel='linear'))\n",
        "\n",
        "cross_validate(estimator=estimator, X=X, y=y, cv=5,\n",
        "               n_jobs=multiprocessing.cpu_count(),\n",
        "               verbose=True)"
      ],
      "metadata": {
        "colab": {
          "base_uri": "https://localhost:8080/"
        },
        "id": "IoVtAYiLtkJu",
        "outputId": "12142e08-9f8c-45e6-d580-2695611a33fe"
      },
      "execution_count": 41,
      "outputs": [
        {
          "output_type": "stream",
          "name": "stderr",
          "text": [
            "[Parallel(n_jobs=2)]: Using backend LokyBackend with 2 concurrent workers.\n",
            "[Parallel(n_jobs=2)]: Done   5 out of   5 | elapsed:    1.3s finished\n"
          ]
        },
        {
          "output_type": "execute_result",
          "data": {
            "text/plain": [
              "{'fit_time': array([0.01693988, 0.02622652, 0.01127958, 0.04718685, 0.01315403]),\n",
              " 'score_time': array([0.00260878, 0.00266504, 0.00249004, 0.00256729, 0.00259972]),\n",
              " 'test_score': array([0.43037242, 0.51653341, 0.48275332, 0.42247202, 0.53076481])}"
            ]
          },
          "metadata": {},
          "execution_count": 41
        }
      ]
    },
    {
      "cell_type": "code",
      "source": [
        "# 가장 좋은 모델을 찾아서 그 모델에 맞춰서 정리하면 됨. \n",
        "# param = {'kernel' : ('linear', 'poly', 'rbf', 'sigmoid'),\n",
        "#          'C' : [1,5,10],'degree' : [3,8],'coef0' : [0.01,10,0.5],\n",
        "#          'gamma' : ('auto','scale')}\n",
        "\n",
        "param = {\n",
        "         'C' : [1,5,10],\n",
        "         'gamma' : ('auto','scale')}\n",
        "\n",
        "scaler = StandardScaler()\n",
        "scaler.fit(X)\n",
        "X = scaler.transform(X)\n",
        "\n",
        "model = SVR()\n",
        "\n",
        "gs = GridSearchCV(\n",
        "    estimator = model,\n",
        "    param_grid = param,\n",
        "    n_jobs = multiprocessing.cpu_count(),\n",
        "    cv = 5,\n",
        "    verbose = True\n",
        ")\n",
        "\n",
        "gs.fit(X, y)"
      ],
      "metadata": {
        "colab": {
          "base_uri": "https://localhost:8080/"
        },
        "id": "5etVfF0HuIxq",
        "outputId": "8fde7884-691c-4487-9d3c-dbe001ee5f9b"
      },
      "execution_count": 59,
      "outputs": [
        {
          "output_type": "stream",
          "name": "stdout",
          "text": [
            "Fitting 5 folds for each of 6 candidates, totalling 30 fits\n"
          ]
        },
        {
          "output_type": "execute_result",
          "data": {
            "text/plain": [
              "GridSearchCV(cv=5, estimator=SVR(), n_jobs=2,\n",
              "             param_grid={'C': [1, 5, 10], 'gamma': ('auto', 'scale')},\n",
              "             verbose=True)"
            ]
          },
          "metadata": {},
          "execution_count": 59
        }
      ]
    },
    {
      "cell_type": "code",
      "source": [
        "gs.best_estimator_"
      ],
      "metadata": {
        "colab": {
          "base_uri": "https://localhost:8080/"
        },
        "id": "Qa62uRNczBdW",
        "outputId": "b8ed812b-f95e-498b-da7b-4627dd39c3a8"
      },
      "execution_count": 60,
      "outputs": [
        {
          "output_type": "execute_result",
          "data": {
            "text/plain": [
              "SVR(C=10, gamma='auto')"
            ]
          },
          "metadata": {},
          "execution_count": 60
        }
      ]
    },
    {
      "cell_type": "code",
      "source": [
        "# SVC 에 대한 정리 \n",
        "X, y = load_breast_cancer(return_X_y=True)\n",
        "X_train, X_test, y_train, y_test = train_test_split(X,y, test_size=0.2)\n",
        "\n",
        "scaler = StandardScaler()\n",
        "scaler.fit(X_train)\n",
        "X_train = scaler.transform(X_train)\n",
        "X_test = scaler.transform(X_test)\n"
      ],
      "metadata": {
        "id": "B9NUawVt1-yF"
      },
      "execution_count": 10,
      "outputs": []
    },
    {
      "cell_type": "code",
      "source": [
        "model = SVC(kernel='linear')\n",
        "model.fit(X_train, y_train)\n",
        "\n",
        "print(\"Score for the train set: {}\".format(model.score(X_train, y_train)))\n",
        "print(\"Score for the test set: {}\".format(model.score(X_test, y_test)))"
      ],
      "metadata": {
        "colab": {
          "base_uri": "https://localhost:8080/"
        },
        "outputId": "bf45e62a-c3e9-4059-d6e1-2fbf69fabaf2",
        "id": "ZReH6zV2goWZ"
      },
      "execution_count": 11,
      "outputs": [
        {
          "output_type": "stream",
          "name": "stdout",
          "text": [
            "Score for the train set: 0.9912087912087912\n",
            "Score for the test set: 0.956140350877193\n"
          ]
        }
      ]
    },
    {
      "cell_type": "code",
      "source": [
        "def make_meshgrid(x, y, h= 0.02):\n",
        "  x_min, x_max = x.min()-1, x.max()+1\n",
        "  y_min, y_max = y.min()-1, y.max()+1\n",
        "  xx, yy = np.meshgrid(np.arange(x_min, x_max, h),\n",
        "                       np.arange(y_min, y_max, h))\n",
        "  return xx, yy"
      ],
      "metadata": {
        "id": "oyzrWj7IgvrL"
      },
      "execution_count": 13,
      "outputs": []
    },
    {
      "cell_type": "code",
      "source": [
        "def plot_contours(clf, xx, yy, **params):\n",
        "  Z = clf.predict(np.column_stack([xx.ravel(), yy.ravel()]))\n",
        "  Z = Z.reshape(xx.shape)\n",
        "  out = plt.contourf(xx, yy, Z, **params)\n",
        "  return out"
      ],
      "metadata": {
        "id": "f_83D0EfihIj"
      },
      "execution_count": 14,
      "outputs": []
    },
    {
      "cell_type": "code",
      "source": [
        "t_SNE = TSNE(n_components=2)\n",
        "X_comp = t_SNE.fit_transform(X)\n",
        "X0, X1 = X_comp[:,0], X_comp[:,1]\n",
        "xx, yy = make_meshgrid(X0, X1)"
      ],
      "metadata": {
        "colab": {
          "base_uri": "https://localhost:8080/"
        },
        "outputId": "9094af9a-53be-4d43-8b3a-eb0ffb97be8a",
        "id": "fWklF8ACgoWn"
      },
      "execution_count": 15,
      "outputs": [
        {
          "output_type": "stream",
          "name": "stderr",
          "text": [
            "/usr/local/lib/python3.7/dist-packages/sklearn/manifold/_t_sne.py:783: FutureWarning: The default initialization in TSNE will change from 'random' to 'pca' in 1.2.\n",
            "  FutureWarning,\n",
            "/usr/local/lib/python3.7/dist-packages/sklearn/manifold/_t_sne.py:793: FutureWarning: The default learning rate in TSNE will change from 200.0 to 'auto' in 1.2.\n",
            "  FutureWarning,\n"
          ]
        }
      ]
    },
    {
      "cell_type": "code",
      "source": [
        "model.fit(X_comp, y)\n",
        "plot_contours(model, xx, yy, cmap=plt.cm.coolwarm, alpha=0.7)\n",
        "plt.scatter(X0, X1, c=y, cmap=plt.cm.coolwarm, s=20, edgecolors='k');"
      ],
      "metadata": {
        "colab": {
          "base_uri": "https://localhost:8080/",
          "height": 262
        },
        "outputId": "eee97781-d04a-4b84-b103-b0a6d0c10aad",
        "id": "3n1KmXgXgoWo"
      },
      "execution_count": 16,
      "outputs": [
        {
          "output_type": "display_data",
          "data": {
            "image/png": "[encoded data removed]",
            "text/plain": [
              "<Figure size 432x288 with 1 Axes>"
            ]
          },
          "metadata": {
            "needs_background": "light"
          }
        }
      ]
    },
    {
      "cell_type": "code",
      "source": [
        "estimator = make_pipeline(StandardScaler(), SVC(kernel='linear'))\n",
        "\n",
        "cross_validate(estimator=estimator, X=X, y=y, cv=5,\n",
        "               n_jobs=multiprocessing.cpu_count(),\n",
        "               verbose=True)"
      ],
      "metadata": {
        "colab": {
          "base_uri": "https://localhost:8080/"
        },
        "outputId": "4244c710-8ebf-4b74-8f78-8540ed127fed",
        "id": "CS7PrSasgoWo"
      },
      "execution_count": 17,
      "outputs": [
        {
          "output_type": "stream",
          "name": "stderr",
          "text": [
            "[Parallel(n_jobs=2)]: Using backend LokyBackend with 2 concurrent workers.\n",
            "[Parallel(n_jobs=2)]: Done   5 out of   5 | elapsed:    1.6s finished\n"
          ]
        },
        {
          "output_type": "execute_result",
          "data": {
            "text/plain": [
              "{'fit_time': array([0.02950978, 0.00725627, 0.00718808, 0.00678706, 0.00994015]),\n",
              " 'score_time': array([0.00150704, 0.00136399, 0.00120354, 0.0010972 , 0.00420141]),\n",
              " 'test_score': array([0.96491228, 0.98245614, 0.96491228, 0.96491228, 0.98230088])}"
            ]
          },
          "metadata": {},
          "execution_count": 17
        }
      ]
    },
    {
      "cell_type": "code",
      "source": [
        "# 가장 좋은 모델을 찾아서 그 모델에 맞춰서 정리하면 됨. \n",
        "# param = {'kernel' : ('linear', 'poly', 'rbf', 'sigmoid'),\n",
        "#          'C' : [1,5,10],'degree' : [3,8],'coef0' : [0.01,10,0.5],\n",
        "#          'gamma' : ('auto','scale')}\n",
        "\n",
        "param = {'C' : [1.0,0.1,0.01],\n",
        "         'gamma' : ('auto','scale')}\n",
        "\n",
        "scaler = StandardScaler()\n",
        "scaler.fit(X)\n",
        "X = scaler.transform(X)\n",
        "\n",
        "model = SVC()\n",
        "\n",
        "gs = GridSearchCV(\n",
        "    estimator = model,\n",
        "    param_grid = param,\n",
        "    n_jobs = multiprocessing.cpu_count(),\n",
        "    cv = 5,\n",
        "    verbose = True\n",
        ")\n",
        "\n",
        "gs.fit(X, y)\n"
      ],
      "metadata": {
        "colab": {
          "base_uri": "https://localhost:8080/"
        },
        "outputId": "be91ac67-98d8-4933-c18a-b582d3a3d2d9",
        "id": "nSAKvw8JgoWo"
      },
      "execution_count": 20,
      "outputs": [
        {
          "output_type": "stream",
          "name": "stdout",
          "text": [
            "Fitting 5 folds for each of 6 candidates, totalling 30 fits\n"
          ]
        },
        {
          "output_type": "execute_result",
          "data": {
            "text/plain": [
              "GridSearchCV(cv=5, estimator=SVC(), n_jobs=2,\n",
              "             param_grid={'C': [1.0, 0.1, 0.01], 'gamma': ('auto', 'scale')},\n",
              "             verbose=True)"
            ]
          },
          "metadata": {},
          "execution_count": 20
        }
      ]
    },
    {
      "cell_type": "code",
      "source": [
        "gs.best_estimator_"
      ],
      "metadata": {
        "colab": {
          "base_uri": "https://localhost:8080/"
        },
        "outputId": "0bbb0ff8-6397-4f8f-c7bb-5c6acb7aeb71",
        "id": "KbLmPzDlgoWp"
      },
      "execution_count": 21,
      "outputs": [
        {
          "output_type": "execute_result",
          "data": {
            "text/plain": [
              "SVC(gamma='auto')"
            ]
          },
          "metadata": {},
          "execution_count": 21
        }
      ]
    }
  ]
}