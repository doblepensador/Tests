{
  "nbformat": 4,
  "nbformat_minor": 0,
  "metadata": {
    "colab": {
      "name": "Naive Bayes",
      "provenance": [],
      "authorship_tag": "ABX9TyP61qvKyvreCSyxS42mU061",
      "include_colab_link": true
    },
    "kernelspec": {
      "name": "python3",
      "display_name": "Python 3"
    },
    "language_info": {
      "name": "python"
    }
  },
  "cells": [
    {
      "cell_type": "markdown",
      "metadata": {
        "id": "view-in-github",
        "colab_type": "text"
      },
      "source": [
        "<a href=\"https://colab.research.google.com/github/doblepensador/Tests/blob/master/Naive_Bayes.ipynb\" target=\"_parent\"><img src=\"https://colab.research.google.com/assets/colab-badge.svg\" alt=\"Open In Colab\"/></a>"
      ]
    },
    {
      "cell_type": "code",
      "execution_count": 40,
      "metadata": {
        "id": "2jBh5Bu13eea"
      },
      "outputs": [],
      "source": [
        "import pandas as pd\n",
        "import numpy as np\n",
        "from sklearn.naive_bayes import GaussianNB, BernoulliNB, MultinomialNB\n",
        "from sklearn.model_selection import train_test_split\n",
        "from sklearn.preprocessing import StandardScaler\n",
        "from sklearn.feature_extraction.text import CountVectorizer, HashingVectorizer, TfidfVectorizer\n",
        "from sklearn import metrics\n",
        "import matplotlib.pyplot as plt\n",
        "plt.style.use(['seaborn-whitegrid'])"
      ]
    },
    {
      "cell_type": "code",
      "source": [
        "from sklearn.datasets import fetch_covtype, fetch_20newsgroups, make_blobs"
      ],
      "metadata": {
        "id": "KtNMfk9E4J9b"
      },
      "execution_count": 42,
      "outputs": []
    },
    {
      "cell_type": "markdown",
      "source": [
        "# Bayes theory 의 Prior는 Guessing 혹은 이미 알고 있다고 생각하고 진행\n"
      ],
      "metadata": {
        "id": "7m6TA7fC_c91"
      }
    },
    {
      "cell_type": "code",
      "source": [
        "# 예를 들어, Friend란 단어가 스팸 메일에 들어 있을 확률은 우리가 일정 데이터를 조사해서 얻을 수 있다. \n",
        "# 마찬 가지로, 어떤 메일이 왔을 때 그 메일이 스팸일 확률 또한 어느 정도 데이터 조사를 통해 얻을 수 있다. \n",
        "# 그렇다면, 어떤 메일이 왔는데 그 메일 안에 Friend란 단어가 들어 있다고 가정해 보자. 이 메일은 스팸일까 친구로부터 온 메일일까? \n",
        "# 단순하게 생각해서 당연히 친구한테서 온 편지라고 생각하기 쉬운데, 이는 스팸이 얼마나 광범위하게 퍼져 있는지를 간과한 예측이다. \n",
        "# 따라서, 어떤 메일이 Friend라는 단어를 포함하고 있다고 해도, \n",
        "# 1) 전체 메일 중에 스팸이 차지하는 비율, \n",
        "# 2) Friend라는 단어가 그렇게 강력하게 신뢰할 만한 단어인지\n",
        "# 고려해야 한다. P(Spam|Friend란 단어가 들어간 메일) * P(Friend란 단어가 들어간 메일) = P(Spam) * P(Friend란 단어가 들어갈 확률|Spam)\n",
        "# 우리는 일반적으로 a) P(Friend)를 상수 처리할 수 있고, b) P(Spam), P(Friend|Spam)은 데이터 분석을 통해서 비교적 정확하게 예측할 수 있다. \n",
        "# 이러한 원리가 클래스 예측 (Spam인지 아닌지 예측) 하는 데 쓰이는 게 Naive Bayes Classification 이다. \n",
        "\n",
        "prior = [0.45, 0.3, 0.15, 0.1] #어떤 카테고리(Class)에 들어가는지에 대한 전체적인 확률 (Probability)\n",
        "likelihood = [[0.3, 0.3, 0.4], \n",
        "              [0.7, 0.2, 0.1], \n",
        "              [0.15, 0.5, 0.35], \n",
        "              [0.6, 0.2, 0.2]] #각각의 카테고리(Class)의 개개의 Feature에 대한 확률(Likelihood)\n",
        "\n",
        "# Naive Bayes Classification의 기본 동작에 대한 함수                        \n",
        "idx = 0 \n",
        "for c, xs in zip(prior, likelihood):\n",
        "  result = 1.\n",
        "  \n",
        "  for x in xs:\n",
        "    result *= x \n",
        "  result *= c\n",
        "  \n",
        "  idx += 1 \n",
        "  # print(f\"{idx}번째 클래스의 가능성: {result}\")\n",
        "  print(\"{}번째 클래스의 가능성: {}\".format(idx, result))\n"
      ],
      "metadata": {
        "colab": {
          "base_uri": "https://localhost:8080/"
        },
        "id": "NSJdCflY_k4A",
        "outputId": "d3934638-37fe-44aa-f668-43b55ac80b32"
      },
      "execution_count": 3,
      "outputs": [
        {
          "output_type": "stream",
          "name": "stdout",
          "text": [
            "1번째 클래스의 가능성: 0.0162\n",
            "2번째 클래스의 가능성: 0.0042\n",
            "3번째 클래스의 가능성: 0.0039375\n",
            "4번째 클래스의 가능성: 0.0024000000000000002\n"
          ]
        }
      ]
    },
    {
      "cell_type": "code",
      "source": [
        "# \"Zip 함수\" 예시\n",
        "for pair in zip(prior, likelihood): \n",
        "  print(pair)\n"
      ],
      "metadata": {
        "colab": {
          "base_uri": "https://localhost:8080/"
        },
        "id": "IAemHo00BLnD",
        "outputId": "aa2eead2-8ea3-4856-f5b5-ce55af5d1f84"
      },
      "execution_count": 4,
      "outputs": [
        {
          "output_type": "stream",
          "name": "stdout",
          "text": [
            "(0.45, [0.3, 0.3, 0.4])\n",
            "(0.3, [0.7, 0.2, 0.1])\n",
            "(0.15, [0.15, 0.5, 0.35])\n",
            "(0.1, [0.6, 0.2, 0.2])\n"
          ]
        }
      ]
    },
    {
      "cell_type": "markdown",
      "source": [
        "# 산림토양 데이터"
      ],
      "metadata": {
        "id": "JP-4yO3yDKoq"
      }
    },
    {
      "cell_type": "code",
      "source": [
        "covtype = fetch_covtype()\n",
        "print(covtype.DESCR)\n"
      ],
      "metadata": {
        "id": "_PwLV28CCaCf"
      },
      "execution_count": null,
      "outputs": []
    },
    {
      "cell_type": "code",
      "source": [
        "covtype_X = covtype.data\n",
        "covtype_y = covtype.target"
      ],
      "metadata": {
        "id": "R2GrOi0hDrR1"
      },
      "execution_count": 10,
      "outputs": []
    },
    {
      "cell_type": "code",
      "source": [
        "covtype_X_train, covtype_X_test, covtype_y_train, covtype_y_test = train_test_split(covtype_X,covtype_y, test_size=0.2)"
      ],
      "metadata": {
        "id": "3vQrqvwoDx41"
      },
      "execution_count": 28,
      "outputs": []
    },
    {
      "cell_type": "code",
      "source": [
        "# Feature들이 모두 Numeric(Float)이기 때문에 그냥 Scaling 하면된다. \n",
        "scaler = StandardScaler()\n",
        "covtype_X_train_scaled = scaler.fit_transform(covtype_X_train)\n",
        "covtype_X_test_scaled = scaler.transform(covtype_X_test)"
      ],
      "metadata": {
        "id": "HVZLh3cVECxx"
      },
      "execution_count": 25,
      "outputs": []
    },
    {
      "cell_type": "markdown",
      "source": [
        "# 20 Newsgroup 데이터 (TEXT 기반 정보)"
      ],
      "metadata": {
        "id": "ImO55QQ6Fb8y"
      }
    },
    {
      "cell_type": "code",
      "source": [
        "newsgroup = fetch_20newsgroups()\n",
        "print(newsgroup.DESCR)\n",
        "# Dimensionality가 1인 점을 확인. 텍스트 기반 테이터. "
      ],
      "metadata": {
        "id": "KNqjYq_ZErN8"
      },
      "execution_count": null,
      "outputs": []
    },
    {
      "cell_type": "code",
      "source": [
        "newsgroup_train = fetch_20newsgroups(subset='train')\n",
        "newsgroup_test = fetch_20newsgroups(subset='test')"
      ],
      "metadata": {
        "id": "LuLIHDeWGEDD"
      },
      "execution_count": 14,
      "outputs": []
    },
    {
      "cell_type": "code",
      "source": [
        "X_train, y_train = newsgroup_train.data, newsgroup_train.target\n",
        "X_test, y_test = newsgroup_test.data, newsgroup_test.target"
      ],
      "metadata": {
        "id": "rJWrP58WGhVm"
      },
      "execution_count": 15,
      "outputs": []
    },
    {
      "cell_type": "markdown",
      "source": [
        "## 텍스트 전처리 (벡터화)"
      ],
      "metadata": {
        "id": "F9dhxmWDHC8Z"
      }
    },
    {
      "cell_type": "markdown",
      "source": [
        "### CountVectorizer : 문서에 나온 단어의 수를 세서 벡터로 생성"
      ],
      "metadata": {
        "id": "MeSdzRE2HPf-"
      }
    },
    {
      "cell_type": "code",
      "source": [
        "count_vectorizer = CountVectorizer()\n",
        "X_train_count = count_vectorizer.fit_transform(X_train)\n",
        "X_test_count = count_vectorizer.transform(X_test)"
      ],
      "metadata": {
        "id": "LLpRfw24HGHj"
      },
      "execution_count": 16,
      "outputs": []
    },
    {
      "cell_type": "code",
      "source": [
        "# Sparsity Matrix : 첫번째 문서[0]의 어떤 단어가 몇번 나왔는지 확인\n",
        "# Sparse data set with high dimension as it does not have enough data in each column and row. \n",
        "# It can be a huge problem when ML is performed because of high demand on the memory. \n",
        "for v in X_train_count[0]:\n",
        "  print(v)"
      ],
      "metadata": {
        "id": "mTzdYIu7H70B"
      },
      "execution_count": null,
      "outputs": []
    },
    {
      "cell_type": "markdown",
      "source": [
        "###HashVectorization"
      ],
      "metadata": {
        "id": "CLidNCh9HeEJ"
      }
    },
    {
      "cell_type": "code",
      "source": [
        "# hashing trick to overcome the problems of the sparse matrix (bag-of-words concept).\n",
        "# Array, Linkedlist, Hashtables\n",
        "# The first two is highly memory-consuming. \n",
        "# the process of hashing trick \n",
        "# input - hash function - hash value - divided by the No. of Index and take the remainder of them\n",
        "# As values, words are saved sequentially as a linked list. \n",
        "# Here, each index is considered as each feature. \n",
        "# This way, we can reduce the dimension. \n",
        "\n",
        "# For it to be applied to Multinomial NB, there must not be negative values for features.\n",
        "# Therefore, alternate_sign variable should be \"False.\" \n",
        "\n",
        "hash_vectorizer = HashingVectorizer(n_features=1000, alternate_sign=False)\n",
        "X_train_hash = hash_vectorizer.fit_transform(X_train)\n",
        "X_test_hash = hash_vectorizer.transform(X_test)\n",
        " "
      ],
      "metadata": {
        "id": "mBt5P2gU6hN7"
      },
      "execution_count": 70,
      "outputs": []
    },
    {
      "cell_type": "code",
      "source": [
        "print(X_train_hash[0])"
      ],
      "metadata": {
        "id": "z1DNq_fc7Vax"
      },
      "execution_count": null,
      "outputs": []
    },
    {
      "cell_type": "markdown",
      "source": [
        "###Term-Frequency-Inverse-Document-Frequency (TFIDF) vectorization "
      ],
      "metadata": {
        "id": "uFjgw1teJAlR"
      }
    },
    {
      "cell_type": "code",
      "source": [
        "# As the term implies, it takes into account \n",
        "# both the frequency of a certain word and how often the word is being used in a broader sense. \n",
        "# Simple frequency (TF) x Log(Inverse Document Frequency)\n",
        "\n",
        "tfidf_vectorizer = TfidfVectorizer()\n",
        "X_train_tfidf = tfidf_vectorizer.fit_transform(X_train)\n",
        "X_test_tfidf = tfidf_vectorizer.transform(X_test)\n"
      ],
      "metadata": {
        "id": "EmHtCvYIJKd_"
      },
      "execution_count": 22,
      "outputs": []
    },
    {
      "cell_type": "code",
      "source": [
        "for v in X_train_tfidf[0]:\n",
        "  print(v)"
      ],
      "metadata": {
        "id": "TW3ZG1ur1EWE"
      },
      "execution_count": null,
      "outputs": []
    },
    {
      "cell_type": "markdown",
      "source": [
        "# Gaussian Naive Bayes (for 산림토양자료)\n",
        "\n",
        "---\n",
        "\n"
      ],
      "metadata": {
        "id": "dJ_WfXJw1Y6X"
      }
    },
    {
      "cell_type": "code",
      "source": [
        "# Multinomial Naïve Bayes consider a feature vector \n",
        "# where a given term represents the number of times it appears or very often i.e. frequency. \n",
        "# On the other hand, Bernoulli is a binary algorithm used when the feature is present or not. \n",
        "# At last Gaussian is based on continuous distribution.\n",
        "\n",
        "model = GaussianNB()\n",
        "model.fit(covtype_X_train_scaled, covtype_y_train) \n"
      ],
      "metadata": {
        "colab": {
          "base_uri": "https://localhost:8080/"
        },
        "id": "9SPK8sCK1oQv",
        "outputId": "4977bf48-5ba2-497e-be03-92c5c394cfaa"
      },
      "execution_count": 26,
      "outputs": [
        {
          "output_type": "execute_result",
          "data": {
            "text/plain": [
              "GaussianNB()"
            ]
          },
          "metadata": {},
          "execution_count": 26
        }
      ]
    },
    {
      "cell_type": "code",
      "source": [
        "predict = model.predict(covtype_X_train)\n",
        "acc = metrics.accuracy_score(covtype_y_train, predict)\n",
        "f1 = metrics.f1_score(covtype_y_train, predict, average=None)\n",
        "\n",
        "print(\"Accuray: {}\".format(acc))\n",
        "print(\"F1 score: {}\".format(f1))"
      ],
      "metadata": {
        "colab": {
          "base_uri": "https://localhost:8080/"
        },
        "id": "GX3AuG2j2JKU",
        "outputId": "211eeb2a-1ea8-45e2-cff8-84fabba2c4ad"
      },
      "execution_count": 36,
      "outputs": [
        {
          "output_type": "stream",
          "name": "stdout",
          "text": [
            "Accuray: 0.48843073176293916\n",
            "F1 score: [0.         0.65606531 0.         0.         0.         0.\n",
            " 0.02880212]\n"
          ]
        }
      ]
    },
    {
      "cell_type": "code",
      "source": [
        "predict = model.predict(covtype_X_test_scaled)\n",
        "acc = metrics.accuracy_score(covtype_y_test, predict)\n",
        "f1 = metrics.f1_score(covtype_y_test, predict, average=None)\n",
        "\n",
        "print(\"Accuray: {}\".format(acc))\n",
        "print(\"F1 score: {}\".format(f1))"
      ],
      "metadata": {
        "colab": {
          "base_uri": "https://localhost:8080/"
        },
        "id": "x9PkWLCK2xhU",
        "outputId": "bd4c64d9-bd9d-4a05-855f-7f3a110162c8"
      },
      "execution_count": 37,
      "outputs": [
        {
          "output_type": "stream",
          "name": "stdout",
          "text": [
            "Accuray: 0.04586800685008132\n",
            "F1 score: [0.09643769 0.01067609 0.07078492 0.00674578 0.0319422  0.00919207\n",
            " 0.06089008]\n"
          ]
        }
      ]
    },
    {
      "cell_type": "code",
      "source": [
        "def make_meshgrid(x, y, h= 0.02):\n",
        "  x_min, x_max = x.min()-1, x.max()+1\n",
        "  y_min, y_max = y.min()-1, y.max()+1\n",
        "  xx, yy = np.meshgrid(np.arange(x_min, x_max, h),\n",
        "                       np.arange(y_min, y_max, h))\n",
        "  return xx, yy"
      ],
      "metadata": {
        "id": "FYb7vVdW39eh"
      },
      "execution_count": 38,
      "outputs": []
    },
    {
      "cell_type": "code",
      "source": [
        "def plot_contours(clf, xx, yy, **params):\n",
        "  Z = clf.predict(np.column_stack([xx.ravel(), yy.ravel()]))\n",
        "  Z = Z.reshape(xx.shape)\n",
        "  out = plt.contourf(xx, yy, Z, **params)\n",
        "  return out"
      ],
      "metadata": {
        "id": "rO9e7Jyk4I_w"
      },
      "execution_count": 39,
      "outputs": []
    },
    {
      "cell_type": "code",
      "source": [
        "# 토양 데이터에 대해서 시각화는 너무 많은 시간이 걸리고 크래시 될 수도 있음 \n",
        "# make_blobs로 방법론만 확인. \n",
        "X, y = make_blobs(n_samples=1000)\n",
        "plt.scatter(X[:,0], X[:,1], c=y, cmap=plt.cm.coolwarm, s=20, edgecolors='k');\n"
      ],
      "metadata": {
        "colab": {
          "base_uri": "https://localhost:8080/",
          "height": 262
        },
        "id": "6p3jGruF4NTa",
        "outputId": "a913cf25-2750-4596-a0e1-de90e3b34a43"
      },
      "execution_count": 50,
      "outputs": [
        {
          "output_type": "display_data",
          "data": {
            "image/png": "[encoded data removed]",
            "text/plain": [
              "<Figure size 432x288 with 1 Axes>"
            ]
          },
          "metadata": {}
        }
      ]
    },
    {
      "cell_type": "code",
      "source": [
        "model = GaussianNB()\n",
        "model.fit(X, y)\n",
        "xx, yy = make_meshgrid(X[:,0], X[:1])\n",
        "plot_contours(model, xx, yy, cmap=plt.cm.coolwarm, alpha=0.8)\n",
        "plt.scatter(X[:,0], X[:,1], c=y, cmap=plt.cm.coolwarm, s=20, edgecolors='k');"
      ],
      "metadata": {
        "colab": {
          "base_uri": "https://localhost:8080/",
          "height": 262
        },
        "id": "Vqay5RfI56jS",
        "outputId": "159815b8-0ea4-4a3e-9f4b-27a0665b293e"
      },
      "execution_count": 51,
      "outputs": [
        {
          "output_type": "display_data",
          "data": {
            "image/png": "[encoded data removed]",
            "text/plain": [
              "<Figure size 432x288 with 1 Axes>"
            ]
          },
          "metadata": {}
        }
      ]
    },
    {
      "cell_type": "markdown",
      "source": [
        "# Bernoulli Naive Bayes (for 의안에 대한 찬반투표 결과로 의원정당 예측) "
      ],
      "metadata": {
        "id": "77f3zFyT69fK"
      }
    },
    {
      "cell_type": "code",
      "source": [
        "# 입력된 특성이 이진의 값을 갖는다고 가정한 모델 \n",
        "# 어떤 단어가 있는지/없는지만 보고 그 빈도수는 보지 않는 모델\n",
        "# 예를 들어, 어떤 의원이 의회에서 찬성/반대를 투표한 패턴만을 보고, \n",
        "# 그 의원이 공화당인지 민주당인지 예측하는 모델이라고 볼 수 있다. \n",
        "\n",
        "# Multinomial Naïve Bayes consider a feature vector \n",
        "# where a given term represents the number of times it appears or very often i.e. frequency. \n",
        "# On the other hand, Bernoulli is a binary algorithm used when the feature is present or not. \n",
        "# At last Gaussian is based on continuous distribution.\n",
        "\n"
      ],
      "metadata": {
        "id": "fOklsVPn7KCM"
      },
      "execution_count": null,
      "outputs": []
    },
    {
      "cell_type": "markdown",
      "source": [
        "# Multinomial Naive Bayes (for 20 Newsgroup 데이터)"
      ],
      "metadata": {
        "id": "0ehvvrsoBuM7"
      }
    },
    {
      "cell_type": "markdown",
      "source": [
        "### Multinomial with Count Vector"
      ],
      "metadata": {
        "id": "t4-rSXJCCRD1"
      }
    },
    {
      "cell_type": "code",
      "source": [
        "model = MultinomialNB()\n",
        "model.fit(X_train_count, y_train)\n",
        "predict = model.predict(X_train_count)\n",
        "acc = metrics.accuracy_score(y_train, predict)\n",
        "f1 = metrics.f1_score(y_train, predict, average=None)\n",
        "\n",
        "print(\"Accuracy: {}\".format(acc))\n",
        "print(\"F1 score: {}\".format(f1))\n"
      ],
      "metadata": {
        "colab": {
          "base_uri": "https://localhost:8080/"
        },
        "id": "ytGQB0cnCFF8",
        "outputId": "b012b645-6fec-447b-dfe1-2bfce6387d3c"
      },
      "execution_count": 64,
      "outputs": [
        {
          "output_type": "stream",
          "name": "stdout",
          "text": [
            "Accuracy: 0.9245182959165635\n",
            "F1 score: [0.95228426 0.904      0.25073746 0.81402003 0.96669513 0.88350983\n",
            " 0.90710383 0.97014925 0.98567818 0.99325464 0.98423237 0.95399516\n",
            " 0.95703454 0.98319328 0.98584513 0.95352564 0.97307002 0.97467249\n",
            " 0.95157895 0.86526946]\n"
          ]
        }
      ]
    },
    {
      "cell_type": "code",
      "source": [
        "predict = model.predict(X_test_count)\n",
        "acc = metrics.accuracy_score(y_test, predict)\n",
        "f1 = metrics.f1_score(y_test, predict, average=None)\n",
        "\n",
        "print(\"Accuracy: {}\".format(acc))\n",
        "print(\"F1 score: {}\".format(f1))"
      ],
      "metadata": {
        "colab": {
          "base_uri": "https://localhost:8080/"
        },
        "id": "jqHUiRw-9lzb",
        "outputId": "8ae263a5-ada4-4e3f-9824-2a77a4f14e4b"
      },
      "execution_count": 65,
      "outputs": [
        {
          "output_type": "stream",
          "name": "stdout",
          "text": [
            "Accuracy: 0.7728359001593202\n",
            "F1 score: [0.77901431 0.7008547  0.00501253 0.64516129 0.79178082 0.73370166\n",
            " 0.76550681 0.88779285 0.93951094 0.91390728 0.94594595 0.78459938\n",
            " 0.72299169 0.84635417 0.86029412 0.80846561 0.78665077 0.89281211\n",
            " 0.60465116 0.48695652]\n"
          ]
        }
      ]
    },
    {
      "cell_type": "markdown",
      "source": [
        "### Multinomial with Hash Vector"
      ],
      "metadata": {
        "id": "jmry8gXU98mZ"
      }
    },
    {
      "cell_type": "code",
      "source": [
        "# For it to be applied to Multinomial NB, there must not be negative values for features.\n",
        "# Therefore, alternate_sign variable should be \"False.\" \n",
        "\n",
        "model = MultinomialNB()\n",
        "model.fit(X_train_hash, y_train)\n",
        "predict = model.predict(X_train_hash)\n",
        "acc = metrics.accuracy_score(y_train, predict)\n",
        "f1 = metrics.f1_score(y_train, predict, average=None)\n",
        "\n",
        "print(\"Accuracy: {}\".format(acc))\n",
        "print(\"F1 score: {}\".format(f1))\n"
      ],
      "metadata": {
        "colab": {
          "base_uri": "https://localhost:8080/"
        },
        "id": "Jv_R3zQs91zr",
        "outputId": "e3956d15-0f3c-4597-cf73-030a89c21e50"
      },
      "execution_count": 72,
      "outputs": [
        {
          "output_type": "stream",
          "name": "stdout",
          "text": [
            "Accuracy: 0.7718755524129397\n",
            "F1 score: [0.72901679 0.70511779 0.77653149 0.73054873 0.78481013 0.80415945\n",
            " 0.74938373 0.77691108 0.82205514 0.85477178 0.88265306 0.86495443\n",
            " 0.71615721 0.7972973  0.83121289 0.65154159 0.82019486 0.87878788\n",
            " 0.6961326  0.27002288]\n"
          ]
        }
      ]
    },
    {
      "cell_type": "code",
      "source": [
        "predict = model.predict(X_test_hash)\n",
        "acc = metrics.accuracy_score(y_test, predict)\n",
        "f1 = metrics.f1_score(y_test, predict, average=None)\n",
        "\n",
        "print(\"Accuracy: {}\".format(acc))\n",
        "print(\"F1 score: {}\".format(f1))"
      ],
      "metadata": {
        "colab": {
          "base_uri": "https://localhost:8080/"
        },
        "id": "h9Q3qGsa-clg",
        "outputId": "7a61aa2c-a135-4329-84a9-575b889b220e"
      },
      "execution_count": 73,
      "outputs": [
        {
          "output_type": "stream",
          "name": "stdout",
          "text": [
            "Accuracy: 0.6143122676579925\n",
            "F1 score: [0.47265625 0.5548854  0.60550459 0.55921856 0.6113307  0.5900277\n",
            " 0.73284314 0.64479638 0.74022989 0.7027027  0.8046875  0.72976339\n",
            " 0.40520984 0.53825137 0.69299363 0.56542056 0.6037296  0.72934473\n",
            " 0.40669856 0.13235294]\n"
          ]
        }
      ]
    },
    {
      "cell_type": "markdown",
      "source": [
        "### Multinomial with TF-IDF Vector"
      ],
      "metadata": {
        "id": "yCVnsc3O-kjm"
      }
    },
    {
      "cell_type": "code",
      "source": [
        "model = MultinomialNB()\n",
        "model.fit(X_train_tfidf, y_train)\n",
        "predict = model.predict(X_train_tfidf)\n",
        "acc = metrics.accuracy_score(y_train, predict)\n",
        "f1 = metrics.f1_score(y_train, predict, average=None)\n",
        "\n",
        "print(\"Accuracy: {}\".format(acc))\n",
        "print(\"F1 score: {}\".format(f1))\n"
      ],
      "metadata": {
        "colab": {
          "base_uri": "https://localhost:8080/"
        },
        "outputId": "b2e693d6-84bd-4722-f19a-fcbdc05fa9fc",
        "id": "97BuJLer-r-I"
      },
      "execution_count": 67,
      "outputs": [
        {
          "output_type": "stream",
          "name": "stdout",
          "text": [
            "Accuracy: 0.9326498143892522\n",
            "F1 score: [0.87404162 0.95414462 0.95726496 0.92863002 0.97812773 0.97440273\n",
            " 0.91090909 0.97261411 0.98659966 0.98575021 0.98026316 0.94033413\n",
            " 0.9594478  0.98032506 0.97755611 0.77411003 0.93506494 0.97453907\n",
            " 0.90163934 0.45081967]\n"
          ]
        }
      ]
    },
    {
      "cell_type": "code",
      "source": [
        "predict = model.predict(X_test_tfidf)\n",
        "acc = metrics.accuracy_score(y_test, predict)\n",
        "f1 = metrics.f1_score(y_test, predict, average=None)\n",
        "\n",
        "print(\"Accuracy: {}\".format(acc))\n",
        "print(\"F1 score: {}\".format(f1))"
      ],
      "metadata": {
        "colab": {
          "base_uri": "https://localhost:8080/"
        },
        "outputId": "1cc70370-7256-45ca-fdf4-2704f9bd6c03",
        "id": "1AMEaEtH-r-J"
      },
      "execution_count": 68,
      "outputs": [
        {
          "output_type": "stream",
          "name": "stdout",
          "text": [
            "Accuracy: 0.7738980350504514\n",
            "F1 score: [0.63117871 0.72       0.72778561 0.72104019 0.81309686 0.81643836\n",
            " 0.7958884  0.88135593 0.93450882 0.91071429 0.92917167 0.73583093\n",
            " 0.69732938 0.81907433 0.86559803 0.60728118 0.76286353 0.92225201\n",
            " 0.57977528 0.24390244]\n"
          ]
        }
      ]
    }
  ]
}